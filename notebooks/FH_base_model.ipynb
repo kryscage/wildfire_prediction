{
 "cells": [
  {
   "cell_type": "code",
   "execution_count": 1,
   "metadata": {},
   "outputs": [],
   "source": [
    "import pandas as pd\n",
    "import numpy as np"
   ]
  },
  {
   "cell_type": "code",
   "execution_count": 2,
   "metadata": {},
   "outputs": [],
   "source": [
    "data = pd.read_csv('/Users/felixhermes/code/miguelferreira13/wildfire_prediction/wildfire_prediction/data/FH_data.csv')"
   ]
  },
  {
   "cell_type": "code",
   "execution_count": 3,
   "metadata": {},
   "outputs": [],
   "source": [
    "data.drop(columns = ['Unnamed: 0', 'split'], inplace = True)"
   ]
  },
  {
   "cell_type": "code",
   "execution_count": 4,
   "metadata": {},
   "outputs": [
    {
     "data": {
      "text/html": [
       "<div>\n",
       "<style scoped>\n",
       "    .dataframe tbody tr th:only-of-type {\n",
       "        vertical-align: middle;\n",
       "    }\n",
       "\n",
       "    .dataframe tbody tr th {\n",
       "        vertical-align: top;\n",
       "    }\n",
       "\n",
       "    .dataframe thead th {\n",
       "        text-align: right;\n",
       "    }\n",
       "</style>\n",
       "<table border=\"1\" class=\"dataframe\">\n",
       "  <thead>\n",
       "    <tr style=\"text-align: right;\">\n",
       "      <th></th>\n",
       "      <th>Region</th>\n",
       "      <th>count()[unit: km^2]</th>\n",
       "      <th>max() Precipitation</th>\n",
       "      <th>max() RelativeHumidity</th>\n",
       "      <th>max() SoilWaterContent</th>\n",
       "      <th>max() SolarRadiation</th>\n",
       "      <th>max() Temperature</th>\n",
       "      <th>max() WindSpeed</th>\n",
       "      <th>mean() Precipitation</th>\n",
       "      <th>mean() RelativeHumidity</th>\n",
       "      <th>...</th>\n",
       "      <th>Permanent water bodies</th>\n",
       "      <th>Herbaceous wetland</th>\n",
       "      <th>Closed forest, evergreen, broad leaf</th>\n",
       "      <th>Closed forest, deciduous broad leaf</th>\n",
       "      <th>Closed forest, unknown</th>\n",
       "      <th>Open forest, evergreen broad leaf</th>\n",
       "      <th>Open forest, deciduous broad leaf</th>\n",
       "      <th>Open forest, unknown definitions</th>\n",
       "      <th>Open sea</th>\n",
       "      <th>target</th>\n",
       "    </tr>\n",
       "  </thead>\n",
       "  <tbody>\n",
       "    <tr>\n",
       "      <th>0</th>\n",
       "      <td>NSW</td>\n",
       "      <td>8.002343e+05</td>\n",
       "      <td>1.836935</td>\n",
       "      <td>80.522964</td>\n",
       "      <td>0.414305</td>\n",
       "      <td>32.169781</td>\n",
       "      <td>35.878704</td>\n",
       "      <td>7.670482</td>\n",
       "      <td>0.044274</td>\n",
       "      <td>36.355567</td>\n",
       "      <td>...</td>\n",
       "      <td>0.2</td>\n",
       "      <td>0.1</td>\n",
       "      <td>14.7</td>\n",
       "      <td>6.8</td>\n",
       "      <td>0.3</td>\n",
       "      <td>0.5</td>\n",
       "      <td>3.7</td>\n",
       "      <td>10.3</td>\n",
       "      <td>0.1</td>\n",
       "      <td>0</td>\n",
       "    </tr>\n",
       "    <tr>\n",
       "      <th>1</th>\n",
       "      <td>NT</td>\n",
       "      <td>1.357561e+06</td>\n",
       "      <td>315.266815</td>\n",
       "      <td>95.683342</td>\n",
       "      <td>0.496140</td>\n",
       "      <td>31.634459</td>\n",
       "      <td>38.136787</td>\n",
       "      <td>9.704402</td>\n",
       "      <td>9.884958</td>\n",
       "      <td>61.494675</td>\n",
       "      <td>...</td>\n",
       "      <td>0.1</td>\n",
       "      <td>0.1</td>\n",
       "      <td>1.0</td>\n",
       "      <td>7.7</td>\n",
       "      <td>0.1</td>\n",
       "      <td>0.1</td>\n",
       "      <td>13.6</td>\n",
       "      <td>9.3</td>\n",
       "      <td>0.5</td>\n",
       "      <td>1</td>\n",
       "    </tr>\n",
       "    <tr>\n",
       "      <th>2</th>\n",
       "      <td>QL</td>\n",
       "      <td>1.730605e+06</td>\n",
       "      <td>74.452164</td>\n",
       "      <td>95.898270</td>\n",
       "      <td>0.472416</td>\n",
       "      <td>31.982830</td>\n",
       "      <td>37.047943</td>\n",
       "      <td>7.675632</td>\n",
       "      <td>1.453053</td>\n",
       "      <td>47.959364</td>\n",
       "      <td>...</td>\n",
       "      <td>0.1</td>\n",
       "      <td>0.0</td>\n",
       "      <td>5.3</td>\n",
       "      <td>13.3</td>\n",
       "      <td>0.3</td>\n",
       "      <td>0.1</td>\n",
       "      <td>12.0</td>\n",
       "      <td>11.0</td>\n",
       "      <td>0.3</td>\n",
       "      <td>1</td>\n",
       "    </tr>\n",
       "    <tr>\n",
       "      <th>3</th>\n",
       "      <td>SA</td>\n",
       "      <td>9.913151e+05</td>\n",
       "      <td>3.193624</td>\n",
       "      <td>81.980751</td>\n",
       "      <td>0.263911</td>\n",
       "      <td>31.734528</td>\n",
       "      <td>38.326847</td>\n",
       "      <td>10.044715</td>\n",
       "      <td>0.059078</td>\n",
       "      <td>30.057683</td>\n",
       "      <td>...</td>\n",
       "      <td>1.2</td>\n",
       "      <td>0.1</td>\n",
       "      <td>0.3</td>\n",
       "      <td>1.3</td>\n",
       "      <td>0.1</td>\n",
       "      <td>0.1</td>\n",
       "      <td>1.4</td>\n",
       "      <td>5.3</td>\n",
       "      <td>0.6</td>\n",
       "      <td>0</td>\n",
       "    </tr>\n",
       "    <tr>\n",
       "      <th>4</th>\n",
       "      <td>TA</td>\n",
       "      <td>6.778526e+04</td>\n",
       "      <td>13.604791</td>\n",
       "      <td>81.501442</td>\n",
       "      <td>0.368189</td>\n",
       "      <td>33.225517</td>\n",
       "      <td>16.228510</td>\n",
       "      <td>11.432408</td>\n",
       "      <td>3.099497</td>\n",
       "      <td>65.086764</td>\n",
       "      <td>...</td>\n",
       "      <td>1.9</td>\n",
       "      <td>1.4</td>\n",
       "      <td>50.1</td>\n",
       "      <td>0.6</td>\n",
       "      <td>1.1</td>\n",
       "      <td>7.2</td>\n",
       "      <td>1.5</td>\n",
       "      <td>7.2</td>\n",
       "      <td>3.0</td>\n",
       "      <td>0</td>\n",
       "    </tr>\n",
       "  </tbody>\n",
       "</table>\n",
       "<p>5 rows × 44 columns</p>\n",
       "</div>"
      ],
      "text/plain": [
       "  Region  count()[unit: km^2]  max() Precipitation  max() RelativeHumidity  \\\n",
       "0    NSW         8.002343e+05             1.836935               80.522964   \n",
       "1     NT         1.357561e+06           315.266815               95.683342   \n",
       "2     QL         1.730605e+06            74.452164               95.898270   \n",
       "3     SA         9.913151e+05             3.193624               81.980751   \n",
       "4     TA         6.778526e+04            13.604791               81.501442   \n",
       "\n",
       "   max() SoilWaterContent  max() SolarRadiation  max() Temperature  \\\n",
       "0                0.414305             32.169781          35.878704   \n",
       "1                0.496140             31.634459          38.136787   \n",
       "2                0.472416             31.982830          37.047943   \n",
       "3                0.263911             31.734528          38.326847   \n",
       "4                0.368189             33.225517          16.228510   \n",
       "\n",
       "   max() WindSpeed  mean() Precipitation  mean() RelativeHumidity  ...  \\\n",
       "0         7.670482              0.044274                36.355567  ...   \n",
       "1         9.704402              9.884958                61.494675  ...   \n",
       "2         7.675632              1.453053                47.959364  ...   \n",
       "3        10.044715              0.059078                30.057683  ...   \n",
       "4        11.432408              3.099497                65.086764  ...   \n",
       "\n",
       "   Permanent water bodies  Herbaceous wetland  \\\n",
       "0                     0.2                 0.1   \n",
       "1                     0.1                 0.1   \n",
       "2                     0.1                 0.0   \n",
       "3                     1.2                 0.1   \n",
       "4                     1.9                 1.4   \n",
       "\n",
       "   Closed forest, evergreen, broad leaf  Closed forest, deciduous broad leaf  \\\n",
       "0                                  14.7                                  6.8   \n",
       "1                                   1.0                                  7.7   \n",
       "2                                   5.3                                 13.3   \n",
       "3                                   0.3                                  1.3   \n",
       "4                                  50.1                                  0.6   \n",
       "\n",
       "   Closed forest, unknown  Open forest, evergreen broad leaf  \\\n",
       "0                     0.3                                0.5   \n",
       "1                     0.1                                0.1   \n",
       "2                     0.3                                0.1   \n",
       "3                     0.1                                0.1   \n",
       "4                     1.1                                7.2   \n",
       "\n",
       "   Open forest, deciduous broad leaf  Open forest, unknown definitions  \\\n",
       "0                                3.7                              10.3   \n",
       "1                               13.6                               9.3   \n",
       "2                               12.0                              11.0   \n",
       "3                                1.4                               5.3   \n",
       "4                                1.5                               7.2   \n",
       "\n",
       "   Open sea  target  \n",
       "0       0.1       0  \n",
       "1       0.5       1  \n",
       "2       0.3       1  \n",
       "3       0.6       0  \n",
       "4       3.0       0  \n",
       "\n",
       "[5 rows x 44 columns]"
      ]
     },
     "execution_count": 4,
     "metadata": {},
     "output_type": "execute_result"
    }
   ],
   "source": [
    "data.head()"
   ]
  },
  {
   "cell_type": "markdown",
   "metadata": {},
   "source": [
    "## preprocessing"
   ]
  },
  {
   "cell_type": "code",
   "execution_count": 5,
   "metadata": {},
   "outputs": [
    {
     "data": {
      "text/plain": [
       "Vegetation_index_variance                                   63\n",
       "Vegetation_index_mean                                       63\n",
       "mean() RelativeHumidity                                     42\n",
       "max() RelativeHumidity                                      42\n",
       "variance() RelativeHumidity                                 42\n",
       "min() RelativeHumidity                                      42\n",
       "mean() WindSpeed                                            28\n",
       "min() WindSpeed                                             28\n",
       "variance() WindSpeed                                        28\n",
       "max() WindSpeed                                             28\n",
       "min() SolarRadiation                                        14\n",
       "mean() SolarRadiation                                       14\n",
       "mean() Temperature                                          14\n",
       "variance() Temperature                                      14\n",
       "max() Temperature                                           14\n",
       "variance() SolarRadiation                                   14\n",
       "min() Temperature                                           14\n",
       "max() SolarRadiation                                        14\n",
       "variance() Precipitation                                     7\n",
       "max() Precipitation                                          7\n",
       "mean() Precipitation                                         7\n",
       "min() Precipitation                                          7\n",
       "Herbaceous wetland                                           0\n",
       "Closed forest, evergreen, broad leaf                         0\n",
       "Closed forest, deciduous broad leaf                          0\n",
       "Region                                                       0\n",
       "Open forest, deciduous broad leaf                            0\n",
       "Closed forest, unknown                                       0\n",
       "Open forest, evergreen broad leaf                            0\n",
       "Bare / sparse vegetation                                     0\n",
       "Open forest, unknown definitions                             0\n",
       "Open sea                                                     0\n",
       "Permanent water bodies                                       0\n",
       "variance() SoilWaterContent                                  0\n",
       "Urban / built up                                             0\n",
       "Cultivated and managed vegetation/agriculture (cropland)     0\n",
       "Herbaceous vegetation                                        0\n",
       "Shrubs                                                       0\n",
       "Estimated_fire_area                                          0\n",
       "count()[unit: km^2]                                          0\n",
       "min() SoilWaterContent                                       0\n",
       "mean() SoilWaterContent                                      0\n",
       "max() SoilWaterContent                                       0\n",
       "target                                                       0\n",
       "dtype: int64"
      ]
     },
     "execution_count": 5,
     "metadata": {},
     "output_type": "execute_result"
    }
   ],
   "source": [
    "data.isnull().sum().sort_values(ascending=False)"
   ]
  },
  {
   "cell_type": "code",
   "execution_count": null,
   "metadata": {},
   "outputs": [],
   "source": []
  },
  {
   "cell_type": "code",
   "execution_count": 6,
   "metadata": {},
   "outputs": [
    {
     "data": {
      "text/plain": [
       "array(['NSW', 'NT', 'QL', 'SA', 'TA', 'VI', 'WA'], dtype=object)"
      ]
     },
     "execution_count": 6,
     "metadata": {},
     "output_type": "execute_result"
    }
   ],
   "source": [
    "data.Region.unique()"
   ]
  },
  {
   "cell_type": "code",
   "execution_count": 7,
   "metadata": {},
   "outputs": [],
   "source": [
    "from sklearn.preprocessing import OneHotEncoder, RobustScaler\n",
    "from sklearn.impute import KNNImputer\n",
    "\n",
    "ohe = OneHotEncoder(sparse = False)\n",
    "ohe.fit(data[['Region']]) \n",
    "region_encoded = ohe.transform(data[['Region']])\n",
    "\n",
    "data[\"NSW\"],data[\"NT\"],data['QL'], data['SA'], data['TA'], data['VI'], data['WA'] = region_encoded.T \n",
    "data.drop(columns = 'Region', inplace = True)\n",
    "imputer = KNNImputer()\n",
    "data = pd.DataFrame(imputer.fit_transform(data),columns = data.columns)"
   ]
  },
  {
   "cell_type": "code",
   "execution_count": 8,
   "metadata": {},
   "outputs": [
    {
     "data": {
      "text/html": [
       "<div>\n",
       "<style scoped>\n",
       "    .dataframe tbody tr th:only-of-type {\n",
       "        vertical-align: middle;\n",
       "    }\n",
       "\n",
       "    .dataframe tbody tr th {\n",
       "        vertical-align: top;\n",
       "    }\n",
       "\n",
       "    .dataframe thead th {\n",
       "        text-align: right;\n",
       "    }\n",
       "</style>\n",
       "<table border=\"1\" class=\"dataframe\">\n",
       "  <thead>\n",
       "    <tr style=\"text-align: right;\">\n",
       "      <th></th>\n",
       "      <th>count()[unit: km^2]</th>\n",
       "      <th>max() Precipitation</th>\n",
       "      <th>max() RelativeHumidity</th>\n",
       "      <th>max() SoilWaterContent</th>\n",
       "      <th>max() SolarRadiation</th>\n",
       "      <th>max() Temperature</th>\n",
       "      <th>max() WindSpeed</th>\n",
       "      <th>mean() Precipitation</th>\n",
       "      <th>mean() RelativeHumidity</th>\n",
       "      <th>mean() SoilWaterContent</th>\n",
       "      <th>...</th>\n",
       "      <th>Open forest, unknown definitions</th>\n",
       "      <th>Open sea</th>\n",
       "      <th>target</th>\n",
       "      <th>NSW</th>\n",
       "      <th>NT</th>\n",
       "      <th>QL</th>\n",
       "      <th>SA</th>\n",
       "      <th>TA</th>\n",
       "      <th>VI</th>\n",
       "      <th>WA</th>\n",
       "    </tr>\n",
       "  </thead>\n",
       "  <tbody>\n",
       "    <tr>\n",
       "      <th>0</th>\n",
       "      <td>8.002343e+05</td>\n",
       "      <td>1.836935</td>\n",
       "      <td>80.522964</td>\n",
       "      <td>0.414305</td>\n",
       "      <td>32.169781</td>\n",
       "      <td>35.878704</td>\n",
       "      <td>7.670482</td>\n",
       "      <td>0.044274</td>\n",
       "      <td>36.355567</td>\n",
       "      <td>0.170931</td>\n",
       "      <td>...</td>\n",
       "      <td>10.3</td>\n",
       "      <td>0.1</td>\n",
       "      <td>0.0</td>\n",
       "      <td>1.0</td>\n",
       "      <td>0.0</td>\n",
       "      <td>0.0</td>\n",
       "      <td>0.0</td>\n",
       "      <td>0.0</td>\n",
       "      <td>0.0</td>\n",
       "      <td>0.0</td>\n",
       "    </tr>\n",
       "    <tr>\n",
       "      <th>1</th>\n",
       "      <td>1.357561e+06</td>\n",
       "      <td>315.266815</td>\n",
       "      <td>95.683342</td>\n",
       "      <td>0.496140</td>\n",
       "      <td>31.634459</td>\n",
       "      <td>38.136787</td>\n",
       "      <td>9.704402</td>\n",
       "      <td>9.884958</td>\n",
       "      <td>61.494675</td>\n",
       "      <td>0.167735</td>\n",
       "      <td>...</td>\n",
       "      <td>9.3</td>\n",
       "      <td>0.5</td>\n",
       "      <td>1.0</td>\n",
       "      <td>0.0</td>\n",
       "      <td>1.0</td>\n",
       "      <td>0.0</td>\n",
       "      <td>0.0</td>\n",
       "      <td>0.0</td>\n",
       "      <td>0.0</td>\n",
       "      <td>0.0</td>\n",
       "    </tr>\n",
       "    <tr>\n",
       "      <th>2</th>\n",
       "      <td>1.730605e+06</td>\n",
       "      <td>74.452164</td>\n",
       "      <td>95.898270</td>\n",
       "      <td>0.472416</td>\n",
       "      <td>31.982830</td>\n",
       "      <td>37.047943</td>\n",
       "      <td>7.675632</td>\n",
       "      <td>1.453053</td>\n",
       "      <td>47.959364</td>\n",
       "      <td>0.185641</td>\n",
       "      <td>...</td>\n",
       "      <td>11.0</td>\n",
       "      <td>0.3</td>\n",
       "      <td>1.0</td>\n",
       "      <td>0.0</td>\n",
       "      <td>0.0</td>\n",
       "      <td>1.0</td>\n",
       "      <td>0.0</td>\n",
       "      <td>0.0</td>\n",
       "      <td>0.0</td>\n",
       "      <td>0.0</td>\n",
       "    </tr>\n",
       "    <tr>\n",
       "      <th>3</th>\n",
       "      <td>9.913151e+05</td>\n",
       "      <td>3.193624</td>\n",
       "      <td>81.980751</td>\n",
       "      <td>0.263911</td>\n",
       "      <td>31.734528</td>\n",
       "      <td>38.326847</td>\n",
       "      <td>10.044715</td>\n",
       "      <td>0.059078</td>\n",
       "      <td>30.057683</td>\n",
       "      <td>0.056047</td>\n",
       "      <td>...</td>\n",
       "      <td>5.3</td>\n",
       "      <td>0.6</td>\n",
       "      <td>0.0</td>\n",
       "      <td>0.0</td>\n",
       "      <td>0.0</td>\n",
       "      <td>0.0</td>\n",
       "      <td>1.0</td>\n",
       "      <td>0.0</td>\n",
       "      <td>0.0</td>\n",
       "      <td>0.0</td>\n",
       "    </tr>\n",
       "    <tr>\n",
       "      <th>4</th>\n",
       "      <td>6.778526e+04</td>\n",
       "      <td>13.604791</td>\n",
       "      <td>81.501442</td>\n",
       "      <td>0.368189</td>\n",
       "      <td>33.225517</td>\n",
       "      <td>16.228510</td>\n",
       "      <td>11.432408</td>\n",
       "      <td>3.099497</td>\n",
       "      <td>65.086764</td>\n",
       "      <td>0.211360</td>\n",
       "      <td>...</td>\n",
       "      <td>7.2</td>\n",
       "      <td>3.0</td>\n",
       "      <td>0.0</td>\n",
       "      <td>0.0</td>\n",
       "      <td>0.0</td>\n",
       "      <td>0.0</td>\n",
       "      <td>0.0</td>\n",
       "      <td>1.0</td>\n",
       "      <td>0.0</td>\n",
       "      <td>0.0</td>\n",
       "    </tr>\n",
       "  </tbody>\n",
       "</table>\n",
       "<p>5 rows × 50 columns</p>\n",
       "</div>"
      ],
      "text/plain": [
       "   count()[unit: km^2]  max() Precipitation  max() RelativeHumidity  \\\n",
       "0         8.002343e+05             1.836935               80.522964   \n",
       "1         1.357561e+06           315.266815               95.683342   \n",
       "2         1.730605e+06            74.452164               95.898270   \n",
       "3         9.913151e+05             3.193624               81.980751   \n",
       "4         6.778526e+04            13.604791               81.501442   \n",
       "\n",
       "   max() SoilWaterContent  max() SolarRadiation  max() Temperature  \\\n",
       "0                0.414305             32.169781          35.878704   \n",
       "1                0.496140             31.634459          38.136787   \n",
       "2                0.472416             31.982830          37.047943   \n",
       "3                0.263911             31.734528          38.326847   \n",
       "4                0.368189             33.225517          16.228510   \n",
       "\n",
       "   max() WindSpeed  mean() Precipitation  mean() RelativeHumidity  \\\n",
       "0         7.670482              0.044274                36.355567   \n",
       "1         9.704402              9.884958                61.494675   \n",
       "2         7.675632              1.453053                47.959364   \n",
       "3        10.044715              0.059078                30.057683   \n",
       "4        11.432408              3.099497                65.086764   \n",
       "\n",
       "   mean() SoilWaterContent  ...  Open forest, unknown definitions  Open sea  \\\n",
       "0                 0.170931  ...                              10.3       0.1   \n",
       "1                 0.167735  ...                               9.3       0.5   \n",
       "2                 0.185641  ...                              11.0       0.3   \n",
       "3                 0.056047  ...                               5.3       0.6   \n",
       "4                 0.211360  ...                               7.2       3.0   \n",
       "\n",
       "   target  NSW   NT   QL   SA   TA   VI   WA  \n",
       "0     0.0  1.0  0.0  0.0  0.0  0.0  0.0  0.0  \n",
       "1     1.0  0.0  1.0  0.0  0.0  0.0  0.0  0.0  \n",
       "2     1.0  0.0  0.0  1.0  0.0  0.0  0.0  0.0  \n",
       "3     0.0  0.0  0.0  0.0  1.0  0.0  0.0  0.0  \n",
       "4     0.0  0.0  0.0  0.0  0.0  1.0  0.0  0.0  \n",
       "\n",
       "[5 rows x 50 columns]"
      ]
     },
     "execution_count": 8,
     "metadata": {},
     "output_type": "execute_result"
    }
   ],
   "source": [
    "data.head()"
   ]
  },
  {
   "cell_type": "code",
   "execution_count": 57,
   "metadata": {},
   "outputs": [],
   "source": [
    "X = data.drop(columns=['Estimated_fire_area', 'target'])\n",
    "y = data.target"
   ]
  },
  {
   "cell_type": "code",
   "execution_count": 58,
   "metadata": {},
   "outputs": [],
   "source": [
    "from sklearn.model_selection import train_test_split\n",
    "X_train, X_test, y_train, y_test = train_test_split(X, y, test_size=0.3, random_state=1)"
   ]
  },
  {
   "cell_type": "markdown",
   "metadata": {},
   "source": [
    "from sklearn.preprocessing import RobustScaler\n",
    "scaler = RobustScaler()\n",
    "X_train = pd.DataFrame(scaler.fit_transform(X_train),columns = X_train.columns)\n",
    "X_test = pd.DataFrame(scaler.fit_transform(X_test),columns = X_test.columns)"
   ]
  },
  {
   "cell_type": "code",
   "execution_count": 59,
   "metadata": {},
   "outputs": [],
   "source": [
    "from sklearn.preprocessing import StandardScaler\n",
    "scaler = StandardScaler()\n",
    "X_train = pd.DataFrame(scaler.fit_transform(X_train),columns = X_train.columns)\n",
    "X_test = pd.DataFrame(scaler.fit_transform(X_test),columns = X_test.columns)"
   ]
  },
  {
   "cell_type": "code",
   "execution_count": 12,
   "metadata": {},
   "outputs": [],
   "source": [
    "from sklearn.linear_model import LogisticRegression\n",
    "\n",
    "log_model = LogisticRegression(max_iter = 2000)"
   ]
  },
  {
   "cell_type": "code",
   "execution_count": 13,
   "metadata": {},
   "outputs": [],
   "source": [
    "log_model.fit(X_train, y_train)\n",
    "result = log_model.predict(X_test)"
   ]
  },
  {
   "cell_type": "code",
   "execution_count": 14,
   "metadata": {},
   "outputs": [
    {
     "data": {
      "text/plain": [
       "array([0., 1.])"
      ]
     },
     "execution_count": 14,
     "metadata": {},
     "output_type": "execute_result"
    }
   ],
   "source": [
    "np.unique(result)"
   ]
  },
  {
   "cell_type": "code",
   "execution_count": 15,
   "metadata": {},
   "outputs": [
    {
     "data": {
      "text/plain": [
       "7735.0"
      ]
     },
     "execution_count": 15,
     "metadata": {},
     "output_type": "execute_result"
    }
   ],
   "source": [
    "result.sum()"
   ]
  },
  {
   "cell_type": "code",
   "execution_count": 16,
   "metadata": {},
   "outputs": [
    {
     "data": {
      "text/plain": [
       "7958.0"
      ]
     },
     "execution_count": 16,
     "metadata": {},
     "output_type": "execute_result"
    }
   ],
   "source": [
    "y_test.sum()"
   ]
  },
  {
   "cell_type": "code",
   "execution_count": 17,
   "metadata": {},
   "outputs": [
    {
     "data": {
      "text/plain": [
       "0.8228929384965832"
      ]
     },
     "execution_count": 17,
     "metadata": {},
     "output_type": "execute_result"
    }
   ],
   "source": [
    "difference = y_test - result\n",
    "unique, counts = np.unique(difference, return_counts=True)\n",
    "dic = dict(zip(unique, counts))\n",
    "score = (dic[-1] + dic[1])/len(y_test)\n",
    "1- score"
   ]
  },
  {
   "cell_type": "code",
   "execution_count": 18,
   "metadata": {},
   "outputs": [
    {
     "data": {
      "text/plain": [
       "0.8228929384965832"
      ]
     },
     "execution_count": 18,
     "metadata": {},
     "output_type": "execute_result"
    }
   ],
   "source": [
    "log_model.score(X_test, y_test)"
   ]
  },
  {
   "cell_type": "code",
   "execution_count": 19,
   "metadata": {},
   "outputs": [
    {
     "data": {
      "text/plain": [
       "<matplotlib.legend.Legend at 0x7f97e046a3d0>"
      ]
     },
     "execution_count": 19,
     "metadata": {},
     "output_type": "execute_result"
    },
    {
     "data": {
      "image/png": "[encoded data removed]",
      "text/plain": [
       "<Figure size 432x288 with 1 Axes>"
      ]
     },
     "metadata": {
      "needs_background": "light"
     },
     "output_type": "display_data"
    }
   ],
   "source": [
    "import matplotlib.pyplot as plt\n",
    "from sklearn.model_selection import learning_curve\n",
    "import numpy as np\n",
    "\n",
    "# Get train scores, train sizes, and validation scores using `learning_curve`, r2 score\n",
    "train_sizes, train_scores, test_scores = learning_curve(estimator = LogisticRegression(max_iter=2000),\n",
    "                                                              X = X_train, \n",
    "                                                              y = y_train, \n",
    "                                                              train_sizes = [25,50,75,100,300,500,800, 1000, 1200], \n",
    "                                                              cv = 20)\n",
    "\n",
    "# Take the mean of cross-validated train scores and validation scores\n",
    "train_scores_mean = np.mean(train_scores, axis=1)\n",
    "test_scores_mean = np.mean(test_scores, axis=1)\n",
    "\n",
    "# Plot the learning curves!\n",
    "plt.plot(train_sizes, train_scores_mean, label = 'Training score')\n",
    "plt.plot(train_sizes, test_scores_mean, label = 'Test score')\n",
    "plt.ylabel('Accuracy score', fontsize = 14)\n",
    "plt.xlabel('Training set size', fontsize = 14)\n",
    "plt.title('Learning curves', fontsize = 18, y = 1.03)\n",
    "#plt.xlim([0, 1000])\n",
    "#plt.ylim([0, 1])\n",
    "plt.legend()"
   ]
  },
  {
   "cell_type": "code",
   "execution_count": 26,
   "metadata": {},
   "outputs": [
    {
     "data": {
      "text/plain": [
       "0.8272860397006183"
      ]
     },
     "execution_count": 26,
     "metadata": {},
     "output_type": "execute_result"
    }
   ],
   "source": [
    "from sklearn.neighbors import KNeighborsClassifier\n",
    "\n",
    "knn_model = KNeighborsClassifier(n_neighbors = 22)\n",
    "knn_model.fit(X_train, y_train)\n",
    "result_knn = log_model.predict(X_test)\n",
    "knn_model.score(X_test, y_test)"
   ]
  },
  {
   "cell_type": "code",
   "execution_count": 23,
   "metadata": {},
   "outputs": [
    {
     "data": {
      "text/plain": [
       "Text(0, 0.5, 'R2 score')"
      ]
     },
     "execution_count": 23,
     "metadata": {},
     "output_type": "execute_result"
    },
    {
     "data": {
      "image/png": "[encoded data removed]",
      "text/plain": [
       "<Figure size 720x432 with 1 Axes>"
      ]
     },
     "metadata": {
      "needs_background": "light"
     },
     "output_type": "display_data"
    }
   ],
   "source": [
    "score = []\n",
    "neighbours = []\n",
    "\n",
    "for k in range(1,25):\n",
    "    \n",
    "    # Instanciate the model\n",
    "    knn_model = KNeighborsClassifier(n_neighbors = k)\n",
    "\n",
    "    # Train the model on the scaled Training data\n",
    "    cv_results = cross_validate(knn_model, X,y)\n",
    "\n",
    "    # Append the score and k\n",
    "    score.append(cv_results['test_score'].mean())\n",
    "    neighbours.append(k)\n",
    "\n",
    "import matplotlib.pyplot as plt\n",
    "\n",
    "plt.figure(figsize=(10,6))\n",
    "plt.plot(range(1,25),score,color='blue', linestyle='dashed', marker='o',markerfacecolor='red', markersize=10)\n",
    "plt.title('Score vs. $k$ Neighbors')\n",
    "plt.xlabel('$k$')\n",
    "plt.ylabel('R2 score')"
   ]
  },
  {
   "cell_type": "code",
   "execution_count": 27,
   "metadata": {},
   "outputs": [
    {
     "data": {
      "text/plain": [
       "0.7965343312723723"
      ]
     },
     "execution_count": 27,
     "metadata": {},
     "output_type": "execute_result"
    }
   ],
   "source": [
    "from sklearn.naive_bayes import GaussianNB\n",
    "\n",
    "nb_model = GaussianNB()\n",
    "nb_model.fit(X_train, y_train)\n",
    "result_nb = log_model.predict(X_test)\n",
    "nb_model.score(X_test, y_test)"
   ]
  },
  {
   "cell_type": "code",
   "execution_count": 56,
   "metadata": {},
   "outputs": [
    {
     "name": "stderr",
     "output_type": "stream",
     "text": [
      "/Users/felixhermes/opt/anaconda3/lib/python3.7/site-packages/sklearn/svm/_base.py:947: ConvergenceWarning: Liblinear failed to converge, increase the number of iterations.\n",
      "  \"the number of iterations.\", ConvergenceWarning)\n"
     ]
    },
    {
     "data": {
      "text/plain": [
       "0.7727790432801822"
      ]
     },
     "execution_count": 56,
     "metadata": {},
     "output_type": "execute_result"
    }
   ],
   "source": [
    "from sklearn.svm import LinearSVC\n",
    "svc_model = LinearSVC(max_iter = 2000, C = 0.5)\n",
    "svc_model.fit(X_train, y_train)\n",
    "result_svc = svc_model.predict(X_test)\n",
    "svc_model.score(X_test, y_test)"
   ]
  },
  {
   "cell_type": "code",
   "execution_count": 67,
   "metadata": {},
   "outputs": [
    {
     "data": {
      "image/png": "[encoded data removed]",
      "text/plain": [
       "<Figure size 432x288 with 1 Axes>"
      ]
     },
     "metadata": {
      "needs_background": "light"
     },
     "output_type": "display_data"
    }
   ],
   "source": [
    "import seaborn as sns\n",
    "sns.scatterplot(x = data['mean() Temperature'], y = data['variance() Temperature'], hue = data['target']);"
   ]
  },
  {
   "cell_type": "code",
   "execution_count": 70,
   "metadata": {},
   "outputs": [
    {
     "data": {
      "text/plain": [
       "0.8428246013667426"
      ]
     },
     "execution_count": 70,
     "metadata": {},
     "output_type": "execute_result"
    }
   ],
   "source": [
    "from sklearn.ensemble import RandomForestClassifier\n",
    "rf_model = RandomForestClassifier(n_estimators = 250, max_depth = 25)\n",
    "rf_model = rf_model.fit(X_train, y_train)\n",
    "result_rf =rf_model.predict(X_test)\n",
    "rf_model.score(X_test, y_test)"
   ]
  },
  {
   "cell_type": "markdown",
   "metadata": {},
   "source": [
    "## Let's do it with less features "
   ]
  },
  {
   "cell_type": "code",
   "execution_count": 45,
   "metadata": {},
   "outputs": [],
   "source": [
    "X = data[['mean() Precipitation', 'mean() RelativeHumidity', 'mean() SoilWaterContent', 'mean() SolarRadiation', 'mean() Temperature', 'mean() WindSpeed', 'Vegetation_index_mean']]\n",
    "y = data.target\n",
    "\n",
    "from sklearn.model_selection import train_test_split\n",
    "X_train, X_test, y_train, y_test = train_test_split(X, y, test_size=0.3, random_state=1)\n",
    "\n",
    "from sklearn.preprocessing import RobustScaler\n",
    "scaler = RobustScaler()\n",
    "X_train = pd.DataFrame(scaler.fit_transform(X_train),columns = X_train.columns)\n",
    "X_test = pd.DataFrame(scaler.fit_transform(X_test),columns = X_test.columns)"
   ]
  },
  {
   "cell_type": "code",
   "execution_count": 47,
   "metadata": {},
   "outputs": [
    {
     "data": {
      "text/plain": [
       "0.7736739342661894"
      ]
     },
     "execution_count": 47,
     "metadata": {},
     "output_type": "execute_result"
    }
   ],
   "source": [
    "log_model_reduced = LogisticRegression(max_iter = 2000)\n",
    "log_model_reduced.fit(X_train, y_train)\n",
    "result = log_model_reduced.predict(X_test)\n",
    "log_model_reduced.score(X_test, y_test)"
   ]
  },
  {
   "cell_type": "code",
   "execution_count": 55,
   "metadata": {},
   "outputs": [
    {
     "data": {
      "text/plain": [
       "<AxesSubplot:xlabel='Vegetation_index_mean', ylabel='Count'>"
      ]
     },
     "execution_count": 55,
     "metadata": {},
     "output_type": "execute_result"
    },
    {
     "data": {
      "image/png": "[encoded data removed]",
      "text/plain": [
       "<Figure size 432x288 with 1 Axes>"
      ]
     },
     "metadata": {
      "needs_background": "light"
     },
     "output_type": "display_data"
    }
   ],
   "source": [
    "sns.histplot(data['Vegetation_index_mean'])"
   ]
  },
  {
   "cell_type": "code",
   "execution_count": null,
   "metadata": {},
   "outputs": [],
   "source": []
  }
 ],
 "metadata": {
  "kernelspec": {
   "display_name": "Python 3",
   "language": "python",
   "name": "python3"
  },
  "language_info": {
   "codemirror_mode": {
    "name": "ipython",
    "version": 3
   },
   "file_extension": ".py",
   "mimetype": "text/x-python",
   "name": "python",
   "nbconvert_exporter": "python",
   "pygments_lexer": "ipython3",
   "version": "3.7.6"
  }
 },
 "nbformat": 4,
 "nbformat_minor": 4
}
