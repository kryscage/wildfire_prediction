{
 "cells": [
  {
   "cell_type": "code",
   "execution_count": 19,
   "id": "9efffe7b",
   "metadata": {},
   "outputs": [],
   "source": [
    "import pandas as pd\n",
    "import numpy as np\n",
    "from sklearn.preprocessing import OneHotEncoder, RobustScaler\n",
    "from sklearn.impute import KNNImputer\n",
    "from sklearn.pipeline import Pipeline\n",
    "from sklearn.model_selection import train_test_split, cross_val_score, GridSearchCV\n",
    "from sklearn.compose import ColumnTransformer\n",
    "from sklearn.linear_model import LinearRegression, Lasso, Ridge\n",
    "from sklearn.neighbors import KNeighborsRegressor\n",
    "from sklearn.ensemble import RandomForestRegressor\n",
    "from sklearn.tree import DecisionTreeRegressor\n",
    "from sklearn.svm import SVR\n"
   ]
  },
  {
   "cell_type": "code",
   "execution_count": 20,
   "id": "89381c38",
   "metadata": {},
   "outputs": [],
   "source": [
    "df = pd.read_csv('../../wildfire_prediction/data/merged_file.csv', index_col=0)"
   ]
  },
  {
   "cell_type": "code",
   "execution_count": 21,
   "id": "eae3099e",
   "metadata": {},
   "outputs": [
    {
     "data": {
      "text/plain": [
       "40971"
      ]
     },
     "execution_count": 21,
     "metadata": {},
     "output_type": "execute_result"
    }
   ],
   "source": [
    "len(df)"
   ]
  },
  {
   "cell_type": "code",
   "execution_count": 22,
   "id": "844496c2",
   "metadata": {},
   "outputs": [],
   "source": [
    "df.drop(columns=['max() Precipitation', \n",
    "                 'max() RelativeHumidity',\n",
    "                 'max() SoilWaterContent',\n",
    "                 'max() SolarRadiation',\n",
    "                 'max() WindSpeed',\n",
    "                 'mean() SoilWaterContent',\n",
    "                 'min() Precipitation', \n",
    "                 'min() RelativeHumidity',\n",
    "                 'min() SoilWaterContent',\n",
    "                 'min() SolarRadiation',\n",
    "                 'min() WindSpeed',\n",
    "                 'variance() Precipitation', \n",
    "                 'variance() RelativeHumidity',\n",
    "                 'variance() SoilWaterContent',\n",
    "                 'variance() SolarRadiation',\n",
    "                 'variance() WindSpeed',\n",
    "                 'variance() Temperature',\n",
    "                 'Mean_estimated_fire_brightness',\n",
    "                 'Mean_estimated_fire_radiative_power',\n",
    "                 'Year',\n",
    "                 'Month',\n",
    "                 'Day'\n",
    "                 ], inplace=True)"
   ]
  },
  {
   "cell_type": "code",
   "execution_count": 23,
   "id": "cb217ad5",
   "metadata": {},
   "outputs": [],
   "source": [
    "#Replacing na by 0\n",
    "df.Estimated_fire_area.fillna(0, inplace=True)\n",
    "# df.Mean_estimated_fire_brightness.fillna(0, inplace=True)\n",
    "# df.Mean_estimated_fire_radiative_power.fillna(0, inplace=True)\n",
    "\n",
    "#Solar Radiation to UV\n",
    "df['mean() SolarRadiation'] = df['mean() SolarRadiation']*0.1\n",
    "#Defining features and target\n",
    "X = df.drop(columns=['Estimated_fire_area', 'Date_x'])\n",
    "y = df.Estimated_fire_area\n",
    "\n",
    "\n",
    "#Region Encoder\n",
    "encoder = OneHotEncoder(sparse=False, handle_unknown='ignore')\n",
    "encoded = encoder.fit_transform(X[['Region']])\n",
    "encoder.categories_\n",
    "for i, col in enumerate(encoder.categories_[0]):\n",
    "    X[col] = pd.DataFrame(encoded)[i]\n",
    "X.drop(columns='Region', inplace=True)\n",
    "\n",
    "#Imputing null values\n",
    "numerical_features = X.dtypes[(df.dtypes == 'float64') | (X.dtypes == 'int64')].index\n",
    "imputer = KNNImputer()\n",
    "values = imputer.fit_transform(X[X.dtypes[(df.dtypes == 'float64') | (X.dtypes == 'int64')].index])\n",
    "X[X.dtypes[(df.dtypes == 'float64') | (X.dtypes == 'int64')].index] = values\n",
    "\n",
    "#Scaler\n",
    "scaler = RobustScaler()\n",
    "scaled = scaler.fit_transform(X[X.dtypes[(df.dtypes == 'float64') | (X.dtypes == 'int64')].index])\n",
    "X[X.dtypes[(df.dtypes == 'float64') | (X.dtypes == 'int64')].index] = scaled\n",
    "\n",
    "#Train Test Split\n",
    "X_train, X_test, y_train, y_test = train_test_split(X, y, test_size= 0.3, random_state=0)"
   ]
  },
  {
   "cell_type": "code",
   "execution_count": 24,
   "id": "ca0056f4",
   "metadata": {},
   "outputs": [
    {
     "ename": "NameError",
     "evalue": "name 'd_tree' is not defined",
     "output_type": "error",
     "traceback": [
      "\u001b[0;31m---------------------------------------------------------------------------\u001b[0m",
      "\u001b[0;31mNameError\u001b[0m                                 Traceback (most recent call last)",
      "\u001b[0;32m<ipython-input-24-ef840a9eee0c>\u001b[0m in \u001b[0;36m<module>\u001b[0;34m\u001b[0m\n\u001b[1;32m      1\u001b[0m \u001b[0msvr\u001b[0m \u001b[0;34m=\u001b[0m \u001b[0mSVR\u001b[0m\u001b[0;34m(\u001b[0m\u001b[0;34m)\u001b[0m\u001b[0;34m\u001b[0m\u001b[0;34m\u001b[0m\u001b[0m\n\u001b[1;32m      2\u001b[0m grid_search = GridSearchCV(\n\u001b[0;32m----> 3\u001b[0;31m     \u001b[0;34m[\u001b[0m\u001b[0msvr\u001b[0m\u001b[0;34m,\u001b[0m\u001b[0md_tree\u001b[0m\u001b[0;34m]\u001b[0m\u001b[0;34m,\u001b[0m\u001b[0;34m\u001b[0m\u001b[0;34m\u001b[0m\u001b[0m\n\u001b[0m\u001b[1;32m      4\u001b[0m     param_grid={\n\u001b[1;32m      5\u001b[0m         \u001b[0;34m'kernel'\u001b[0m\u001b[0;34m:\u001b[0m \u001b[0;34m[\u001b[0m\u001b[0;34m'linear'\u001b[0m\u001b[0;34m,\u001b[0m \u001b[0;34m'poly'\u001b[0m\u001b[0;34m,\u001b[0m \u001b[0;34m'rbf'\u001b[0m\u001b[0;34m]\u001b[0m\u001b[0;34m,\u001b[0m\u001b[0;34m\u001b[0m\u001b[0;34m\u001b[0m\u001b[0m\n",
      "\u001b[0;31mNameError\u001b[0m: name 'd_tree' is not defined"
     ]
    }
   ],
   "source": [
    "svr = SVR()\n",
    "grid_search = GridSearchCV(\n",
    "    [svr,d_tree], \n",
    "    param_grid={\n",
    "        'kernel': ['linear', 'poly', 'rbf'],\n",
    "#         'coef0' : [0.001, 0.01, 0.1],\n",
    "#         'C': [200, 300, 500 , 900],\n",
    "        'epsilon': [0.00001, 0.0001, 0.01]},\n",
    "    n_jobs=-1,\n",
    "    cv=5,\n",
    "    scoring=\"r2\")\n",
    "\n",
    "grid_search.fit(X_train, y_train)\n",
    "grid_search.best_params_"
   ]
  },
  {
   "cell_type": "code",
   "execution_count": null,
   "id": "0c287d5b",
   "metadata": {},
   "outputs": [],
   "source": [
    "svr_model = grid_search.best_estimator_\n",
    "svr_model.fit(X_train, y_train)\n",
    "print(svr_model.score(X_test, y_test))\n",
    "y_pred = svr_model.predict(X_test)\n",
    "print(np.sqrt((y_test-y_pred)**2).mean())\n",
    "cross_val_score(svr_model, X_test, y_test).mean()"
   ]
  },
  {
   "cell_type": "code",
   "execution_count": null,
   "id": "3064107d",
   "metadata": {},
   "outputs": [],
   "source": [
    "d_tree = DecisionTreeRegressor()\n",
    "d_tree.fit(X_train, y_train)\n",
    "print(d_tree.score(X_test, y_test))\n",
    "y_pred = d_tree.predict(X_test)\n",
    "print('rmse', np.sqrt((y_test-y_pred)**2).mean())\n",
    "cross_val_score(d_tree, X_test, y_test).mean()"
   ]
  },
  {
   "cell_type": "code",
   "execution_count": null,
   "id": "1394fe59",
   "metadata": {},
   "outputs": [],
   "source": [
    "lasso = Lasso()\n",
    "lasso.fit(X_train, y_train)\n",
    "print(lasso.score(X_test, y_test))\n",
    "y_pred = lasso.predict(X_test)\n",
    "print('rmse', np.sqrt((y_test-y_pred)**2).mean())\n",
    "cross_val_score(lasso, X_test, y_test).mean()"
   ]
  },
  {
   "cell_type": "code",
   "execution_count": null,
   "id": "b1ed5bf6",
   "metadata": {},
   "outputs": [],
   "source": [
    "ridge = Ridge()\n",
    "ridge.fit(X_train, y_train)\n",
    "print(ridge.score(X_test, y_test))\n",
    "y_pred = ridge.predict(X_test)\n",
    "print('rmse', np.sqrt((y_test-y_pred)**2).mean())\n",
    "cross_val_score(ridge, X_test, y_test).mean()"
   ]
  },
  {
   "cell_type": "code",
   "execution_count": null,
   "id": "0e3e5dd0",
   "metadata": {},
   "outputs": [],
   "source": [
    "X_train.info()"
   ]
  },
  {
   "cell_type": "code",
   "execution_count": 25,
   "id": "2789f4c7",
   "metadata": {},
   "outputs": [
    {
     "data": {
      "text/plain": [
       "{'criterion': 'mae', 'max_features': 'auto', 'n_estimators': 200}"
      ]
     },
     "execution_count": 25,
     "metadata": {},
     "output_type": "execute_result"
    }
   ],
   "source": [
    "rdf = RandomForestRegressor()\n",
    "grid_search = GridSearchCV(\n",
    "    rdf, \n",
    "    param_grid={\n",
    "        'n_estimators' : [60, 100, 200],\n",
    "        'max_features' : [\"auto\", \"sqrt\", \"log2\"],\n",
    "        'criterion' : [\"mae\"]},\n",
    "    n_jobs=-1,\n",
    "    cv=5,\n",
    "    scoring=\"r2\")\n",
    "\n",
    "grid_search.fit(X_train, y_train)\n",
    "grid_search.best_params_"
   ]
  },
  {
   "cell_type": "code",
   "execution_count": null,
   "id": "af9d49e1",
   "metadata": {},
   "outputs": [],
   "source": [
    "rdf = grid_search.best_estimator_\n",
    "rdf.fit(X_train, y_train)\n",
    "print(rdf.score(X_test, y_test))\n",
    "y_pred = rdf.predict(X_test)\n",
    "print(np.sqrt((y_test-y_pred)**2).mean())\n",
    "cross_val_score(rdf, X_test, y_test).mean()"
   ]
  },
  {
   "cell_type": "code",
   "execution_count": 18,
   "id": "a182bb7a",
   "metadata": {},
   "outputs": [
    {
     "name": "stdout",
     "output_type": "stream",
     "text": [
      "0.5552042984865755\n",
      "60.07776647304248\n",
      "0.47943986231394015\n"
     ]
    }
   ],
   "source": [
    "rdf = RandomForestRegressor(criterion= 'mae', max_features= 'log2', n_estimators= 100)\n",
    "rdf.fit(X_train, y_train)\n",
    "\n",
    "print(rdf.score(X_test, y_test))\n",
    "y_pred = rdf.predict(X_test)\n",
    "print(np.sqrt((y_test-y_pred)**2).mean())\n",
    "print(cross_val_score(rdf, X_test, y_test).mean())"
   ]
  },
  {
   "cell_type": "code",
   "execution_count": null,
   "id": "367e7214",
   "metadata": {},
   "outputs": [],
   "source": []
  }
 ],
 "metadata": {
  "kernelspec": {
   "display_name": "Python 3",
   "language": "python",
   "name": "python3"
  },
  "language_info": {
   "codemirror_mode": {
    "name": "ipython",
    "version": 3
   },
   "file_extension": ".py",
   "mimetype": "text/x-python",
   "name": "python",
   "nbconvert_exporter": "python",
   "pygments_lexer": "ipython3",
   "version": "3.8.6"
  },
  "toc": {
   "base_numbering": 1,
   "nav_menu": {},
   "number_sections": true,
   "sideBar": true,
   "skip_h1_title": false,
   "title_cell": "Table of Contents",
   "title_sidebar": "Contents",
   "toc_cell": false,
   "toc_position": {},
   "toc_section_display": true,
   "toc_window_display": false
  }
 },
 "nbformat": 4,
 "nbformat_minor": 5
}
