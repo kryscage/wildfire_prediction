{
 "cells": [
  {
   "cell_type": "markdown",
   "id": "c99dae95",
   "metadata": {},
   "source": [
    "# Merging Data Sets"
   ]
  },
  {
   "cell_type": "code",
   "execution_count": 1,
   "id": "af5e631b",
   "metadata": {},
   "outputs": [],
   "source": [
    "import pandas as pd"
   ]
  },
  {
   "cell_type": "code",
   "execution_count": 12,
   "id": "3cb4d739",
   "metadata": {},
   "outputs": [],
   "source": [
    "weather = pd.read_csv('../wildfire_prediction/data/weather.csv', index_col=0)"
   ]
  },
  {
   "cell_type": "code",
   "execution_count": 13,
   "id": "a8ff7c77",
   "metadata": {},
   "outputs": [],
   "source": [
    "wildfire = pd.read_csv('../wildfire_prediction/data/wildfire_history.csv', index_col=0)"
   ]
  },
  {
   "cell_type": "code",
   "execution_count": 14,
   "id": "ac353e16",
   "metadata": {},
   "outputs": [],
   "source": [
    "vegetation = pd.read_csv('../wildfire_prediction/data/VegetationIndex.csv', index_col=0)"
   ]
  },
  {
   "cell_type": "code",
   "execution_count": 15,
   "id": "1a6b3509",
   "metadata": {},
   "outputs": [],
   "source": [
    "landclass = pd.read_csv('../wildfire_prediction/data/Landclass.csv', index_col=0)"
   ]
  },
  {
   "cell_type": "code",
   "execution_count": 32,
   "id": "93174ea9",
   "metadata": {},
   "outputs": [
    {
     "name": "stdout",
     "output_type": "stream",
     "text": [
      "<class 'pandas.core.frame.DataFrame'>\n",
      "Int64Index: 1344 entries, 0 to 1343\n",
      "Data columns (total 9 columns):\n",
      " #   Column                     Non-Null Count  Dtype  \n",
      "---  ------                     --------------  -----  \n",
      " 0   Region                     1344 non-null   object \n",
      " 1   Date                       1344 non-null   object \n",
      " 2   Vegetation_index_mean      1344 non-null   float64\n",
      " 3   Vegetation_index_max       1344 non-null   float64\n",
      " 4   Vegetation_index_min       1344 non-null   float64\n",
      " 5   Vegetation_index_std       1344 non-null   float64\n",
      " 6   Vegetation_index_variance  1344 non-null   float64\n",
      " 7   year                       1344 non-null   int64  \n",
      " 8   month                      1344 non-null   int64  \n",
      "dtypes: float64(5), int64(2), object(2)\n",
      "memory usage: 105.0+ KB\n"
     ]
    }
   ],
   "source": [
    "vegetation.info()"
   ]
  },
  {
   "cell_type": "code",
   "execution_count": 21,
   "id": "e3bc2a37",
   "metadata": {},
   "outputs": [],
   "source": [
    "merged = weather.merge(wildfire, how='left', on = ['Year', 'Month', 'Day', 'Region'])"
   ]
  },
  {
   "cell_type": "code",
   "execution_count": 28,
   "id": "d55df9be",
   "metadata": {},
   "outputs": [],
   "source": [
    "merged.drop(columns='Date_y', inplace=True)"
   ]
  },
  {
   "cell_type": "code",
   "execution_count": 30,
   "id": "8528afc6",
   "metadata": {},
   "outputs": [],
   "source": [
    "merged = merged.merge(vegetation, how='left'\\\n",
    "                      , left_on = ['Year', 'Month', 'Region'], right_on= ['year', 'month', 'Region'])"
   ]
  },
  {
   "cell_type": "code",
   "execution_count": 33,
   "id": "3eb819a4",
   "metadata": {},
   "outputs": [],
   "source": [
    "merged.drop(columns='Date', inplace=True)"
   ]
  },
  {
   "cell_type": "code",
   "execution_count": 35,
   "id": "9055a657",
   "metadata": {},
   "outputs": [],
   "source": [
    "merged = merged.merge(landclass, how='left', on = ['Region'])"
   ]
  },
  {
   "cell_type": "code",
   "execution_count": 37,
   "id": "0fa39c21",
   "metadata": {},
   "outputs": [
    {
     "name": "stdout",
     "output_type": "stream",
     "text": [
      "<class 'pandas.core.frame.DataFrame'>\n",
      "Int64Index: 40971 entries, 0 to 40970\n",
      "Data columns (total 62 columns):\n",
      " #   Column                                                    Non-Null Count  Dtype  \n",
      "---  ------                                                    --------------  -----  \n",
      " 0   Date_x                                                    40971 non-null  object \n",
      " 1   Region                                                    40971 non-null  object \n",
      " 2   count()[unit: km^2]                                       40971 non-null  float64\n",
      " 3   max() Precipitation                                       40964 non-null  float64\n",
      " 4   max() RelativeHumidity                                    40929 non-null  float64\n",
      " 5   max() SoilWaterContent                                    40971 non-null  float64\n",
      " 6   max() SolarRadiation                                      40957 non-null  float64\n",
      " 7   max() Temperature                                         40957 non-null  float64\n",
      " 8   max() WindSpeed                                           40943 non-null  float64\n",
      " 9   mean() Precipitation                                      40964 non-null  float64\n",
      " 10  mean() RelativeHumidity                                   40929 non-null  float64\n",
      " 11  mean() SoilWaterContent                                   40971 non-null  float64\n",
      " 12  mean() SolarRadiation                                     40957 non-null  float64\n",
      " 13  mean() Temperature                                        40957 non-null  float64\n",
      " 14  mean() WindSpeed                                          40943 non-null  float64\n",
      " 15  min() Precipitation                                       40964 non-null  float64\n",
      " 16  min() RelativeHumidity                                    40929 non-null  float64\n",
      " 17  min() SoilWaterContent                                    40971 non-null  float64\n",
      " 18  min() SolarRadiation                                      40957 non-null  float64\n",
      " 19  min() Temperature                                         40957 non-null  float64\n",
      " 20  min() WindSpeed                                           40943 non-null  float64\n",
      " 21  variance() Precipitation                                  40964 non-null  float64\n",
      " 22  variance() RelativeHumidity                               40929 non-null  float64\n",
      " 23  variance() SoilWaterContent                               40971 non-null  float64\n",
      " 24  variance() SolarRadiation                                 40957 non-null  float64\n",
      " 25  variance() Temperature                                    40957 non-null  float64\n",
      " 26  variance() WindSpeed                                      40943 non-null  float64\n",
      " 27  day                                                       40971 non-null  int64  \n",
      " 28  month_x                                                   40971 non-null  int64  \n",
      " 29  year_x                                                    40971 non-null  int64  \n",
      " 30  Year                                                      40971 non-null  int64  \n",
      " 31  Month                                                     40971 non-null  int64  \n",
      " 32  Day                                                       40971 non-null  int64  \n",
      " 33  Estimated_fire_area                                       26667 non-null  float64\n",
      " 34  Mean_estimated_fire_brightness                            26667 non-null  float64\n",
      " 35  Mean_estimated_fire_radiative_power                       26667 non-null  float64\n",
      " 36  Mean_confidence                                           26667 non-null  float64\n",
      " 37  Std_confidence                                            24432 non-null  float64\n",
      " 38  Var_confidence                                            24432 non-null  float64\n",
      " 39  Count                                                     26667 non-null  float64\n",
      " 40  Replaced                                                  26667 non-null  object \n",
      " 41  Vegetation_index_mean                                     40908 non-null  float64\n",
      " 42  Vegetation_index_max                                      40908 non-null  float64\n",
      " 43  Vegetation_index_min                                      40908 non-null  float64\n",
      " 44  Vegetation_index_std                                      40908 non-null  float64\n",
      " 45  Vegetation_index_variance                                 40908 non-null  float64\n",
      " 46  year_y                                                    40908 non-null  float64\n",
      " 47  month_y                                                   40908 non-null  float64\n",
      " 48  Shrubs                                                    40971 non-null  float64\n",
      " 49  Herbaceous vegetation                                     40971 non-null  float64\n",
      " 50  Cultivated and managed vegetation/agriculture (cropland)  40971 non-null  float64\n",
      " 51  Urban / built up                                          40971 non-null  float64\n",
      " 52  Bare / sparse vegetation                                  40971 non-null  float64\n",
      " 53  Permanent water bodies                                    40971 non-null  float64\n",
      " 54  Herbaceous wetland                                        40971 non-null  float64\n",
      " 55  Closed forest, evergreen, broad leaf                      40971 non-null  float64\n",
      " 56  Closed forest, deciduous broad leaf                       40971 non-null  float64\n",
      " 57  Closed forest, unknown                                    40971 non-null  float64\n",
      " 58  Open forest, evergreen broad leaf                         40971 non-null  float64\n",
      " 59  Open forest, deciduous broad leaf                         40971 non-null  float64\n",
      " 60  Open forest, unknown definitions                          40971 non-null  float64\n",
      " 61  Open sea                                                  40971 non-null  float64\n",
      "dtypes: float64(53), int64(6), object(3)\n",
      "memory usage: 19.7+ MB\n"
     ]
    }
   ],
   "source": [
    "merged.info()"
   ]
  },
  {
   "cell_type": "code",
   "execution_count": 39,
   "id": "272437f7",
   "metadata": {},
   "outputs": [],
   "source": [
    "merged.drop(columns=['month_x', 'month_y', 'year_y', 'year_x', 'day', 'Replaced', 'Count'\\\n",
    "                    , 'Mean_confidence', 'Std_confidence', 'Mean_confidence'\\\n",
    "                    , 'Vegetation_index_max', 'Vegetation_index_min', 'Vegetation_index_std'], inplace=True)"
   ]
  },
  {
   "cell_type": "code",
   "execution_count": 41,
   "id": "f2b603e6",
   "metadata": {},
   "outputs": [
    {
     "name": "stdout",
     "output_type": "stream",
     "text": [
      "<class 'pandas.core.frame.DataFrame'>\n",
      "Int64Index: 40971 entries, 0 to 40970\n",
      "Data columns (total 50 columns):\n",
      " #   Column                                                    Non-Null Count  Dtype  \n",
      "---  ------                                                    --------------  -----  \n",
      " 0   Date_x                                                    40971 non-null  object \n",
      " 1   Region                                                    40971 non-null  object \n",
      " 2   count()[unit: km^2]                                       40971 non-null  float64\n",
      " 3   max() Precipitation                                       40964 non-null  float64\n",
      " 4   max() RelativeHumidity                                    40929 non-null  float64\n",
      " 5   max() SoilWaterContent                                    40971 non-null  float64\n",
      " 6   max() SolarRadiation                                      40957 non-null  float64\n",
      " 7   max() Temperature                                         40957 non-null  float64\n",
      " 8   max() WindSpeed                                           40943 non-null  float64\n",
      " 9   mean() Precipitation                                      40964 non-null  float64\n",
      " 10  mean() RelativeHumidity                                   40929 non-null  float64\n",
      " 11  mean() SoilWaterContent                                   40971 non-null  float64\n",
      " 12  mean() SolarRadiation                                     40957 non-null  float64\n",
      " 13  mean() Temperature                                        40957 non-null  float64\n",
      " 14  mean() WindSpeed                                          40943 non-null  float64\n",
      " 15  min() Precipitation                                       40964 non-null  float64\n",
      " 16  min() RelativeHumidity                                    40929 non-null  float64\n",
      " 17  min() SoilWaterContent                                    40971 non-null  float64\n",
      " 18  min() SolarRadiation                                      40957 non-null  float64\n",
      " 19  min() Temperature                                         40957 non-null  float64\n",
      " 20  min() WindSpeed                                           40943 non-null  float64\n",
      " 21  variance() Precipitation                                  40964 non-null  float64\n",
      " 22  variance() RelativeHumidity                               40929 non-null  float64\n",
      " 23  variance() SoilWaterContent                               40971 non-null  float64\n",
      " 24  variance() SolarRadiation                                 40957 non-null  float64\n",
      " 25  variance() Temperature                                    40957 non-null  float64\n",
      " 26  variance() WindSpeed                                      40943 non-null  float64\n",
      " 27  Year                                                      40971 non-null  int64  \n",
      " 28  Month                                                     40971 non-null  int64  \n",
      " 29  Day                                                       40971 non-null  int64  \n",
      " 30  Estimated_fire_area                                       26667 non-null  float64\n",
      " 31  Mean_estimated_fire_brightness                            26667 non-null  float64\n",
      " 32  Mean_estimated_fire_radiative_power                       26667 non-null  float64\n",
      " 33  Var_confidence                                            24432 non-null  float64\n",
      " 34  Vegetation_index_mean                                     40908 non-null  float64\n",
      " 35  Vegetation_index_variance                                 40908 non-null  float64\n",
      " 36  Shrubs                                                    40971 non-null  float64\n",
      " 37  Herbaceous vegetation                                     40971 non-null  float64\n",
      " 38  Cultivated and managed vegetation/agriculture (cropland)  40971 non-null  float64\n",
      " 39  Urban / built up                                          40971 non-null  float64\n",
      " 40  Bare / sparse vegetation                                  40971 non-null  float64\n",
      " 41  Permanent water bodies                                    40971 non-null  float64\n",
      " 42  Herbaceous wetland                                        40971 non-null  float64\n",
      " 43  Closed forest, evergreen, broad leaf                      40971 non-null  float64\n",
      " 44  Closed forest, deciduous broad leaf                       40971 non-null  float64\n",
      " 45  Closed forest, unknown                                    40971 non-null  float64\n",
      " 46  Open forest, evergreen broad leaf                         40971 non-null  float64\n",
      " 47  Open forest, deciduous broad leaf                         40971 non-null  float64\n",
      " 48  Open forest, unknown definitions                          40971 non-null  float64\n",
      " 49  Open sea                                                  40971 non-null  float64\n",
      "dtypes: float64(45), int64(3), object(2)\n",
      "memory usage: 15.9+ MB\n"
     ]
    }
   ],
   "source": [
    "merged.info()"
   ]
  },
  {
   "cell_type": "code",
   "execution_count": null,
   "id": "0f034550",
   "metadata": {},
   "outputs": [],
   "source": []
  }
 ],
 "metadata": {
  "kernelspec": {
   "display_name": "Python 3",
   "language": "python",
   "name": "python3"
  },
  "language_info": {
   "codemirror_mode": {
    "name": "ipython",
    "version": 3
   },
   "file_extension": ".py",
   "mimetype": "text/x-python",
   "name": "python",
   "nbconvert_exporter": "python",
   "pygments_lexer": "ipython3",
   "version": "3.8.6"
  },
  "toc": {
   "base_numbering": 1,
   "nav_menu": {},
   "number_sections": true,
   "sideBar": true,
   "skip_h1_title": false,
   "title_cell": "Table of Contents",
   "title_sidebar": "Contents",
   "toc_cell": false,
   "toc_position": {},
   "toc_section_display": true,
   "toc_window_display": false
  }
 },
 "nbformat": 4,
 "nbformat_minor": 5
}
