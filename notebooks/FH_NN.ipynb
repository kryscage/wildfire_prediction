{
 "cells": [
  {
   "cell_type": "code",
   "execution_count": 1,
   "metadata": {},
   "outputs": [],
   "source": [
    "import pandas as pd\n",
    "import numpy as np\n",
    "import os"
   ]
  },
  {
   "cell_type": "code",
   "execution_count": 4,
   "metadata": {},
   "outputs": [],
   "source": [
    "root_path = os.path.dirname(os.path.abspath(os.path.curdir)) # 1 up from /notebooks (curdir) to main project folder\n",
    "data_folder_path = os.path.join(root_path, 'wildfire_prediction', 'data')\n",
    "data_file_path = os.path.join(data_folder_path, 'FH_data_final.csv')\n",
    "\n",
    "data = pd.read_csv(data_file_path)"
   ]
  },
  {
   "cell_type": "code",
   "execution_count": 5,
   "metadata": {},
   "outputs": [
    {
     "name": "stdout",
     "output_type": "stream",
     "text": [
      "<class 'pandas.core.frame.DataFrame'>\n",
      "RangeIndex: 40971 entries, 0 to 40970\n",
      "Data columns (total 35 columns):\n",
      " #   Column                                                    Non-Null Count  Dtype  \n",
      "---  ------                                                    --------------  -----  \n",
      " 0   Year                                                      40971 non-null  float64\n",
      " 1   Month                                                     40971 non-null  float64\n",
      " 2   Day                                                       40971 non-null  float64\n",
      " 3   count()[unit: km^2]                                       40971 non-null  float64\n",
      " 4   mean() Temperature                                        40971 non-null  float64\n",
      " 5   max() Temperature                                         40971 non-null  float64\n",
      " 6   min() Temperature                                         40971 non-null  float64\n",
      " 7   mean() WindSpeed                                          40971 non-null  float64\n",
      " 8   mean() RelativeHumidity                                   40971 non-null  float64\n",
      " 9   mean() Precipitation                                      40971 non-null  float64\n",
      " 10  mean() SolarRadiation                                     40971 non-null  float64\n",
      " 11  Vegetation_index_variance                                 40971 non-null  float64\n",
      " 12  Vegetation_index_mean                                     40971 non-null  float64\n",
      " 13  Shrubs                                                    40971 non-null  float64\n",
      " 14  Herbaceous vegetation                                     40971 non-null  float64\n",
      " 15  Cultivated and managed vegetation/agriculture (cropland)  40971 non-null  float64\n",
      " 16  Urban / built up                                          40971 non-null  float64\n",
      " 17  Bare / sparse vegetation                                  40971 non-null  float64\n",
      " 18  Permanent water bodies                                    40971 non-null  float64\n",
      " 19  Herbaceous wetland                                        40971 non-null  float64\n",
      " 20  Closed forest, evergreen, broad leaf                      40971 non-null  float64\n",
      " 21  Closed forest, deciduous broad leaf                       40971 non-null  float64\n",
      " 22  Closed forest, unknown                                    40971 non-null  float64\n",
      " 23  Open forest, evergreen broad leaf                         40971 non-null  float64\n",
      " 24  Open forest, deciduous broad leaf                         40971 non-null  float64\n",
      " 25  Open forest, unknown definitions                          40971 non-null  float64\n",
      " 26  Open sea                                                  40971 non-null  float64\n",
      " 27  target                                                    40971 non-null  float64\n",
      " 28  NSW                                                       40971 non-null  float64\n",
      " 29  NT                                                        40971 non-null  float64\n",
      " 30  QL                                                        40971 non-null  float64\n",
      " 31  SA                                                        40971 non-null  float64\n",
      " 32  TA                                                        40971 non-null  float64\n",
      " 33  VI                                                        40971 non-null  float64\n",
      " 34  WA                                                        40971 non-null  float64\n",
      "dtypes: float64(35)\n",
      "memory usage: 10.9 MB\n"
     ]
    }
   ],
   "source": [
    "data.info()"
   ]
  },
  {
   "cell_type": "code",
   "execution_count": 6,
   "metadata": {},
   "outputs": [],
   "source": [
    "y = data.target\n",
    "X = data.drop(columns = 'target')"
   ]
  },
  {
   "cell_type": "code",
   "execution_count": 7,
   "metadata": {},
   "outputs": [],
   "source": [
    "from sklearn.model_selection import train_test_split\n",
    "X_train, X_test, y_train, y_test = train_test_split(X, y, test_size=0.25, random_state=3)"
   ]
  },
  {
   "cell_type": "code",
   "execution_count": 8,
   "metadata": {},
   "outputs": [],
   "source": [
    "from sklearn.preprocessing import RobustScaler\n",
    "scaler = RobustScaler()\n",
    "X_train = scaler.fit_transform(X_train)"
   ]
  },
  {
   "cell_type": "code",
   "execution_count": 13,
   "metadata": {},
   "outputs": [
    {
     "data": {
      "text/plain": [
       "34"
      ]
     },
     "execution_count": 13,
     "metadata": {},
     "output_type": "execute_result"
    }
   ],
   "source": [
    "X_train.shape[1]"
   ]
  },
  {
   "cell_type": "code",
   "execution_count": 66,
   "metadata": {},
   "outputs": [],
   "source": [
    "from tensorflow.keras import Sequential, layers\n",
    "model = Sequential()\n",
    "model.add(layers.Dense(200, activation='relu', input_dim=X_train.shape[1]))\n",
    "model.add(layers.Dense(150, activation='relu'))\n",
    "model.add(layers.Dense(100, activation='relu'))\n",
    "model.add(layers.Dense(75, activation='relu'))\n",
    "model.add(layers.Dense(25, activation='relu'))\n",
    "model.add(layers.Dense(10, activation='relu'))\n",
    "model.add(layers.Dense(1, activation='sigmoid'))"
   ]
  },
  {
   "cell_type": "code",
   "execution_count": 67,
   "metadata": {},
   "outputs": [
    {
     "name": "stdout",
     "output_type": "stream",
     "text": [
      "Model: \"sequential_10\"\n",
      "_________________________________________________________________\n",
      "Layer (type)                 Output Shape              Param #   \n",
      "=================================================================\n",
      "dense_42 (Dense)             (None, 200)               7000      \n",
      "_________________________________________________________________\n",
      "dense_43 (Dense)             (None, 150)               30150     \n",
      "_________________________________________________________________\n",
      "dense_44 (Dense)             (None, 100)               15100     \n",
      "_________________________________________________________________\n",
      "dense_45 (Dense)             (None, 75)                7575      \n",
      "_________________________________________________________________\n",
      "dense_46 (Dense)             (None, 25)                1900      \n",
      "_________________________________________________________________\n",
      "dense_47 (Dense)             (None, 10)                260       \n",
      "_________________________________________________________________\n",
      "dense_48 (Dense)             (None, 1)                 11        \n",
      "=================================================================\n",
      "Total params: 61,996\n",
      "Trainable params: 61,996\n",
      "Non-trainable params: 0\n",
      "_________________________________________________________________\n"
     ]
    }
   ],
   "source": [
    "model.summary()"
   ]
  },
  {
   "cell_type": "code",
   "execution_count": 68,
   "metadata": {},
   "outputs": [],
   "source": [
    "model.compile(\n",
    "    optimizer='adam',\n",
    "    loss='binary_crossentropy', \n",
    "    metrics = 'accuracy')"
   ]
  },
  {
   "cell_type": "code",
   "execution_count": 69,
   "metadata": {},
   "outputs": [
    {
     "name": "stdout",
     "output_type": "stream",
     "text": [
      "Epoch 1/500\n",
      "673/673 [==============================] - 2s 2ms/step - loss: 0.4109 - accuracy: 0.8072 - val_loss: 0.3550 - val_accuracy: 0.8280\n",
      "Epoch 2/500\n",
      "673/673 [==============================] - 1s 2ms/step - loss: 0.3576 - accuracy: 0.8281 - val_loss: 0.3679 - val_accuracy: 0.8300\n",
      "Epoch 3/500\n",
      "673/673 [==============================] - 1s 2ms/step - loss: 0.3475 - accuracy: 0.8312 - val_loss: 0.3359 - val_accuracy: 0.8414\n",
      "Epoch 4/500\n",
      "673/673 [==============================] - 1s 2ms/step - loss: 0.3380 - accuracy: 0.8401 - val_loss: 0.3532 - val_accuracy: 0.8338\n",
      "Epoch 5/500\n",
      "673/673 [==============================] - 1s 2ms/step - loss: 0.3383 - accuracy: 0.8380 - val_loss: 0.3452 - val_accuracy: 0.8320\n",
      "Epoch 6/500\n",
      "673/673 [==============================] - 1s 2ms/step - loss: 0.3335 - accuracy: 0.8413 - val_loss: 0.3313 - val_accuracy: 0.8446\n",
      "Epoch 7/500\n",
      "673/673 [==============================] - 1s 2ms/step - loss: 0.3318 - accuracy: 0.8431 - val_loss: 0.3489 - val_accuracy: 0.8390\n",
      "Epoch 8/500\n",
      "673/673 [==============================] - 1s 2ms/step - loss: 0.3243 - accuracy: 0.8454 - val_loss: 0.3334 - val_accuracy: 0.8452\n",
      "Epoch 9/500\n",
      "673/673 [==============================] - 1s 2ms/step - loss: 0.3253 - accuracy: 0.8454 - val_loss: 0.3288 - val_accuracy: 0.8448\n",
      "Epoch 10/500\n",
      "673/673 [==============================] - 1s 2ms/step - loss: 0.3240 - accuracy: 0.8420 - val_loss: 0.3317 - val_accuracy: 0.8433\n",
      "Epoch 11/500\n",
      "673/673 [==============================] - 1s 2ms/step - loss: 0.3215 - accuracy: 0.8517 - val_loss: 0.3277 - val_accuracy: 0.8473\n",
      "Epoch 12/500\n",
      "673/673 [==============================] - 1s 2ms/step - loss: 0.3181 - accuracy: 0.8488 - val_loss: 0.3293 - val_accuracy: 0.8437\n",
      "Epoch 13/500\n",
      "673/673 [==============================] - 1s 2ms/step - loss: 0.3118 - accuracy: 0.8560 - val_loss: 0.3303 - val_accuracy: 0.8480\n",
      "Epoch 14/500\n",
      "673/673 [==============================] - 1s 2ms/step - loss: 0.3117 - accuracy: 0.8524 - val_loss: 0.3263 - val_accuracy: 0.8498\n",
      "Epoch 15/500\n",
      "673/673 [==============================] - 1s 2ms/step - loss: 0.3166 - accuracy: 0.8510 - val_loss: 0.3283 - val_accuracy: 0.8451\n",
      "Epoch 16/500\n",
      "673/673 [==============================] - 1s 2ms/step - loss: 0.3015 - accuracy: 0.8603 - val_loss: 0.3238 - val_accuracy: 0.8474\n",
      "Epoch 17/500\n",
      "673/673 [==============================] - 1s 2ms/step - loss: 0.3035 - accuracy: 0.8570 - val_loss: 0.3307 - val_accuracy: 0.8446\n",
      "Epoch 18/500\n",
      "673/673 [==============================] - 2s 2ms/step - loss: 0.3074 - accuracy: 0.8576 - val_loss: 0.3398 - val_accuracy: 0.8469\n",
      "Epoch 19/500\n",
      "673/673 [==============================] - 2s 2ms/step - loss: 0.3005 - accuracy: 0.8601 - val_loss: 0.3334 - val_accuracy: 0.8472\n",
      "Epoch 20/500\n",
      "673/673 [==============================] - 1s 2ms/step - loss: 0.2964 - accuracy: 0.8604 - val_loss: 0.3393 - val_accuracy: 0.8462\n",
      "Epoch 21/500\n",
      "673/673 [==============================] - 1s 2ms/step - loss: 0.3028 - accuracy: 0.8546 - val_loss: 0.3266 - val_accuracy: 0.8506\n",
      "Epoch 22/500\n",
      "673/673 [==============================] - 2s 3ms/step - loss: 0.2953 - accuracy: 0.8621 - val_loss: 0.3324 - val_accuracy: 0.8463\n",
      "Epoch 23/500\n",
      "673/673 [==============================] - 2s 4ms/step - loss: 0.2936 - accuracy: 0.8646 - val_loss: 0.3348 - val_accuracy: 0.8464\n",
      "Epoch 24/500\n",
      "673/673 [==============================] - 1s 2ms/step - loss: 0.2820 - accuracy: 0.8678 - val_loss: 0.3496 - val_accuracy: 0.8375\n",
      "Epoch 25/500\n",
      "673/673 [==============================] - 1s 2ms/step - loss: 0.2853 - accuracy: 0.8635 - val_loss: 0.3411 - val_accuracy: 0.8446\n",
      "Epoch 26/500\n",
      "673/673 [==============================] - 1s 2ms/step - loss: 0.2770 - accuracy: 0.8694 - val_loss: 0.3378 - val_accuracy: 0.8469\n",
      "Epoch 27/500\n",
      "673/673 [==============================] - 2s 3ms/step - loss: 0.2790 - accuracy: 0.8673 - val_loss: 0.3544 - val_accuracy: 0.8416\n",
      "Epoch 28/500\n",
      "673/673 [==============================] - 1s 2ms/step - loss: 0.2746 - accuracy: 0.8679 - val_loss: 0.3502 - val_accuracy: 0.8441\n",
      "Epoch 29/500\n",
      "673/673 [==============================] - 1s 2ms/step - loss: 0.2724 - accuracy: 0.8717 - val_loss: 0.3553 - val_accuracy: 0.8460\n",
      "Epoch 30/500\n",
      "673/673 [==============================] - 1s 2ms/step - loss: 0.2661 - accuracy: 0.8773 - val_loss: 0.3495 - val_accuracy: 0.8488\n",
      "Epoch 31/500\n",
      "673/673 [==============================] - 1s 2ms/step - loss: 0.2767 - accuracy: 0.8663 - val_loss: 0.3693 - val_accuracy: 0.8473\n",
      "Epoch 32/500\n",
      "673/673 [==============================] - 1s 2ms/step - loss: 0.2677 - accuracy: 0.8751 - val_loss: 0.3815 - val_accuracy: 0.8409\n",
      "Epoch 33/500\n",
      "673/673 [==============================] - 2s 2ms/step - loss: 0.2635 - accuracy: 0.8751 - val_loss: 0.3740 - val_accuracy: 0.8386\n",
      "Epoch 34/500\n",
      "673/673 [==============================] - 1s 2ms/step - loss: 0.2534 - accuracy: 0.8801 - val_loss: 0.3791 - val_accuracy: 0.8438\n",
      "Epoch 35/500\n",
      "673/673 [==============================] - 1s 2ms/step - loss: 0.2523 - accuracy: 0.8828 - val_loss: 0.3889 - val_accuracy: 0.8422\n",
      "Epoch 36/500\n",
      "673/673 [==============================] - 1s 2ms/step - loss: 0.2494 - accuracy: 0.8811 - val_loss: 0.3801 - val_accuracy: 0.8403\n",
      "Epoch 37/500\n",
      "673/673 [==============================] - 1s 2ms/step - loss: 0.2472 - accuracy: 0.8865 - val_loss: 0.3962 - val_accuracy: 0.8399\n",
      "Epoch 38/500\n",
      "673/673 [==============================] - 2s 3ms/step - loss: 0.2391 - accuracy: 0.8902 - val_loss: 0.3812 - val_accuracy: 0.8356\n",
      "Epoch 39/500\n",
      "673/673 [==============================] - 1s 2ms/step - loss: 0.2422 - accuracy: 0.8860 - val_loss: 0.3988 - val_accuracy: 0.8352\n",
      "Epoch 40/500\n",
      "673/673 [==============================] - 1s 2ms/step - loss: 0.2328 - accuracy: 0.8897 - val_loss: 0.4077 - val_accuracy: 0.8432\n",
      "Epoch 41/500\n",
      "673/673 [==============================] - 1s 2ms/step - loss: 0.2338 - accuracy: 0.8908 - val_loss: 0.4306 - val_accuracy: 0.8366\n",
      "Epoch 42/500\n",
      "673/673 [==============================] - 1s 2ms/step - loss: 0.2235 - accuracy: 0.8974 - val_loss: 0.4282 - val_accuracy: 0.8358\n",
      "Epoch 43/500\n",
      "673/673 [==============================] - 1s 2ms/step - loss: 0.2214 - accuracy: 0.8977 - val_loss: 0.4449 - val_accuracy: 0.8408\n",
      "Epoch 44/500\n",
      "673/673 [==============================] - 1s 2ms/step - loss: 0.2208 - accuracy: 0.8952 - val_loss: 0.4619 - val_accuracy: 0.8370\n",
      "Epoch 45/500\n",
      "673/673 [==============================] - 1s 2ms/step - loss: 0.2234 - accuracy: 0.8951 - val_loss: 0.4526 - val_accuracy: 0.8344\n",
      "Epoch 46/500\n",
      "673/673 [==============================] - 1s 2ms/step - loss: 0.2177 - accuracy: 0.9004 - val_loss: 0.4685 - val_accuracy: 0.8327\n",
      "Epoch 47/500\n",
      "673/673 [==============================] - 1s 2ms/step - loss: 0.2127 - accuracy: 0.9009 - val_loss: 0.4436 - val_accuracy: 0.8351\n",
      "Epoch 48/500\n",
      "673/673 [==============================] - 1s 2ms/step - loss: 0.2069 - accuracy: 0.9044 - val_loss: 0.4800 - val_accuracy: 0.8349\n",
      "Epoch 49/500\n",
      "673/673 [==============================] - 1s 2ms/step - loss: 0.2055 - accuracy: 0.9075 - val_loss: 0.4897 - val_accuracy: 0.8362\n",
      "Epoch 50/500\n",
      "673/673 [==============================] - 1s 2ms/step - loss: 0.2023 - accuracy: 0.9069 - val_loss: 0.5233 - val_accuracy: 0.8378\n",
      "Epoch 51/500\n",
      "673/673 [==============================] - 1s 2ms/step - loss: 0.2024 - accuracy: 0.9092 - val_loss: 0.4701 - val_accuracy: 0.8368\n",
      "Epoch 52/500\n",
      "673/673 [==============================] - 1s 2ms/step - loss: 0.1951 - accuracy: 0.9123 - val_loss: 0.5602 - val_accuracy: 0.8362\n",
      "Epoch 53/500\n",
      "673/673 [==============================] - 1s 2ms/step - loss: 0.1950 - accuracy: 0.9102 - val_loss: 0.5359 - val_accuracy: 0.8277\n",
      "Epoch 54/500\n",
      "673/673 [==============================] - 1s 2ms/step - loss: 0.1871 - accuracy: 0.9142 - val_loss: 0.5738 - val_accuracy: 0.8276\n",
      "Epoch 55/500\n",
      "673/673 [==============================] - 1s 2ms/step - loss: 0.1831 - accuracy: 0.9195 - val_loss: 0.5662 - val_accuracy: 0.8318\n",
      "Epoch 56/500\n",
      "673/673 [==============================] - 1s 2ms/step - loss: 0.1902 - accuracy: 0.9142 - val_loss: 0.5704 - val_accuracy: 0.8374\n",
      "Epoch 57/500\n",
      "673/673 [==============================] - 2s 3ms/step - loss: 0.1818 - accuracy: 0.9191 - val_loss: 0.5704 - val_accuracy: 0.8325\n",
      "Epoch 58/500\n",
      "673/673 [==============================] - 2s 3ms/step - loss: 0.1888 - accuracy: 0.9121 - val_loss: 0.5987 - val_accuracy: 0.8375\n",
      "Epoch 59/500\n",
      "673/673 [==============================] - 1s 2ms/step - loss: 0.1768 - accuracy: 0.9217 - val_loss: 0.5702 - val_accuracy: 0.8374\n",
      "Epoch 60/500\n",
      "673/673 [==============================] - 2s 2ms/step - loss: 0.1743 - accuracy: 0.9234 - val_loss: 0.5729 - val_accuracy: 0.8356\n",
      "Epoch 61/500\n",
      "673/673 [==============================] - 1s 2ms/step - loss: 0.1723 - accuracy: 0.9208 - val_loss: 0.6388 - val_accuracy: 0.8365\n",
      "Epoch 62/500\n",
      "673/673 [==============================] - 1s 2ms/step - loss: 0.1673 - accuracy: 0.9236 - val_loss: 0.5988 - val_accuracy: 0.8345\n",
      "Epoch 63/500\n",
      "673/673 [==============================] - 1s 2ms/step - loss: 0.1652 - accuracy: 0.9271 - val_loss: 0.6072 - val_accuracy: 0.8390\n",
      "Epoch 64/500\n",
      "673/673 [==============================] - 1s 2ms/step - loss: 0.1673 - accuracy: 0.9233 - val_loss: 0.6670 - val_accuracy: 0.8399\n",
      "Epoch 65/500\n",
      "673/673 [==============================] - 1s 2ms/step - loss: 0.1593 - accuracy: 0.9290 - val_loss: 0.6651 - val_accuracy: 0.8283\n",
      "Epoch 66/500\n",
      "673/673 [==============================] - 1s 2ms/step - loss: 0.1607 - accuracy: 0.9276 - val_loss: 0.6692 - val_accuracy: 0.8322\n"
     ]
    },
    {
     "data": {
      "text/plain": [
       "<tensorflow.python.keras.callbacks.History at 0x7fc5397f14d0>"
      ]
     },
     "execution_count": 69,
     "metadata": {},
     "output_type": "execute_result"
    }
   ],
   "source": [
    "from tensorflow.keras.callbacks import EarlyStopping\n",
    "\n",
    "es = EarlyStopping(patience = 50, restore_best_weights=True)\n",
    "\n",
    "model.fit(X_train, y_train, \n",
    "          batch_size=32, \n",
    "          epochs=500, \n",
    "          validation_split=0.3,\n",
    "          callbacks=[es])"
   ]
  },
  {
   "cell_type": "code",
   "execution_count": 70,
   "metadata": {},
   "outputs": [
    {
     "name": "stdout",
     "output_type": "stream",
     "text": [
      "321/321 [==============================] - 0s 800us/step - loss: 0.3337 - accuracy: 0.8392\n"
     ]
    },
    {
     "data": {
      "text/plain": [
       "[0.33367636799812317, 0.8392072916030884]"
      ]
     },
     "execution_count": 70,
     "metadata": {},
     "output_type": "execute_result"
    }
   ],
   "source": [
    "model.evaluate(scaler.transform(X_test), y_test)"
   ]
  },
  {
   "cell_type": "code",
   "execution_count": null,
   "metadata": {},
   "outputs": [],
   "source": []
  }
 ],
 "metadata": {
  "kernelspec": {
   "display_name": "Python 3",
   "language": "python",
   "name": "python3"
  },
  "language_info": {
   "codemirror_mode": {
    "name": "ipython",
    "version": 3
   },
   "file_extension": ".py",
   "mimetype": "text/x-python",
   "name": "python",
   "nbconvert_exporter": "python",
   "pygments_lexer": "ipython3",
   "version": "3.7.6"
  }
 },
 "nbformat": 4,
 "nbformat_minor": 4
}
