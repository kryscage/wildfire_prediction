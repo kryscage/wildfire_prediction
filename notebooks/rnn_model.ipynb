{
 "cells": [
  {
   "cell_type": "markdown",
   "id": "27091de9",
   "metadata": {},
   "source": [
    "# RNN Model"
   ]
  },
  {
   "cell_type": "code",
   "execution_count": 1,
   "id": "e78e422a",
   "metadata": {},
   "outputs": [],
   "source": [
    "import pandas as pd\n",
    "import numpy as np\n",
    "from sklearn.preprocessing import OneHotEncoder, StandardScaler\n",
    "from sklearn.impute import KNNImputer\n",
    "from tensorflow.keras.models import Sequential\n",
    "from tensorflow.keras import layers\n",
    "from sklearn.pipeline import Pipeline\n",
    "from sklearn.model_selection import train_test_split\n",
    "from sklearn.compose import ColumnTransformer\n",
    "from sklearn.linear_model import LinearRegression\n",
    "from sklearn.neighbors import KNeighborsRegressor\n",
    "from tensorflow.keras.optimizers import RMSprop\n",
    "from tensorflow.keras.layers.experimental.preprocessing import Normalization\n",
    "\n",
    "from tensorflow.keras.models import Sequential\n",
    "from tensorflow.keras.layers import LSTM, Dense ,Dropout, Bidirectional\n",
    "\n",
    "from sklearn import set_config\n",
    "\n",
    "set_config(display='diagram')"
   ]
  },
  {
   "cell_type": "code",
   "execution_count": 2,
   "id": "95b772db",
   "metadata": {},
   "outputs": [],
   "source": [
    "df = pd.read_csv('../wildfire_prediction/data/merged_file.csv', index_col=0)"
   ]
  },
  {
   "cell_type": "code",
   "execution_count": 3,
   "id": "7bec3c57",
   "metadata": {},
   "outputs": [],
   "source": [
    "#Replacing na by 0\n",
    "df.Estimated_fire_area.fillna(0, inplace=True)\n",
    "df.Mean_estimated_fire_brightness.fillna(0, inplace=True)\n",
    "df.Mean_estimated_fire_radiative_power.fillna(0, inplace=True)\n",
    "\n",
    "#Defining features and target\n",
    "X = df.drop(columns=['Estimated_fire_area', 'Date_x'])\n",
    "y = df.Estimated_fire_area\n",
    "\n",
    "#Region Encoder\n",
    "encoder = OneHotEncoder(sparse=False, handle_unknown='ignore')\n",
    "encoded = encoder.fit_transform(X[['Region']])\n",
    "encoder.categories_\n",
    "for i, col in enumerate(encoder.categories_[0]):\n",
    "    X[col] = pd.DataFrame(encoded)[i]\n",
    "X.drop(columns='Region', inplace=True)\n",
    "\n",
    "#Imputing null values\n",
    "numerical_features = X.dtypes[(df.dtypes == 'float64') | (X.dtypes == 'int64')].index\n",
    "imputer = KNNImputer()\n",
    "values = imputer.fit_transform(X[X.dtypes[(df.dtypes == 'float64') | (X.dtypes == 'int64')].index])\n",
    "X[X.dtypes[(df.dtypes == 'float64') | (X.dtypes == 'int64')].index] = values\n",
    "\n",
    "#Train Test Split\n",
    "len_ = int(0.8*df.shape[0])\n",
    "X_train = X[:len_]\n",
    "X_test = X[len_:]\n",
    "y_train = y[:len_]\n",
    "y_test = y[len_:]"
   ]
  },
  {
   "cell_type": "code",
   "execution_count": 4,
   "id": "d84405ac",
   "metadata": {},
   "outputs": [
    {
     "data": {
      "text/plain": [
       "(32776, 53)"
      ]
     },
     "execution_count": 4,
     "metadata": {},
     "output_type": "execute_result"
    }
   ],
   "source": [
    "X_train.shape"
   ]
  },
  {
   "cell_type": "code",
   "execution_count": 5,
   "id": "5bf97b7a",
   "metadata": {},
   "outputs": [
    {
     "data": {
      "text/plain": [
       "(8195,)"
      ]
     },
     "execution_count": 5,
     "metadata": {},
     "output_type": "execute_result"
    }
   ],
   "source": [
    "y_test.shape"
   ]
  },
  {
   "cell_type": "code",
   "execution_count": 8,
   "id": "c1d6eb65",
   "metadata": {},
   "outputs": [],
   "source": [
    "X_train = X_train.to_numpy().reshape((32776, 53, 1))\n",
    "X_test = X_test.to_numpy().reshape((8195, 53, 1))\n",
    "y_test = y_test.to_numpy().reshape((8195,1))"
   ]
  },
  {
   "cell_type": "code",
   "execution_count": 9,
   "id": "613775e5",
   "metadata": {},
   "outputs": [],
   "source": [
    "# regressor = Sequential()\n",
    "# regressor.add(Bidirectional(LSTM(units=30, return_sequences=True, input_shape = (X_train.shape[1],1) ) ))\n",
    "# regressor.add(Dropout(0.2))\n",
    "# regressor.add(LSTM(units= 30 , return_sequences=True))\n",
    "# regressor.add(Dropout(0.2))\n",
    "# regressor.add(LSTM(units= 30 , return_sequences=True))\n",
    "# regressor.add(Dropout(0.2))\n",
    "# regressor.add(LSTM(units= 30))\n",
    "# regressor.add(Dropout(0.2))\n",
    "# regressor.add(Dense(units = 1,activation='linear'))\n",
    "# regressor.compile(optimizer='adam', loss='mean_squared_error',metrics=['acc'])\n",
    "# regressor.fit(X_train, y_train, epochs=10,batch_size=32 )"
   ]
  },
  {
   "cell_type": "code",
   "execution_count": 10,
   "id": "ffbdd094",
   "metadata": {},
   "outputs": [],
   "source": [
    "# y_pred = regressor.predict(X_test)"
   ]
  },
  {
   "cell_type": "code",
   "execution_count": 11,
   "id": "dc3d1d83",
   "metadata": {},
   "outputs": [],
   "source": [
    "# np.abs(y_pred - y_test).mean()"
   ]
  },
  {
   "cell_type": "code",
   "execution_count": 12,
   "id": "70a640d0",
   "metadata": {},
   "outputs": [],
   "source": [
    "# model.evaluate(X_test, y_test)"
   ]
  },
  {
   "cell_type": "code",
   "execution_count": 13,
   "id": "ed4b0a41",
   "metadata": {},
   "outputs": [],
   "source": [
    "# model = Sequential()\n",
    "# model.add(layers.SimpleRNN(units=2, activation='tanh'))\n",
    "# model.add(layers.Dense(1, activation=\"linear\"))\n",
    "\n",
    "# # The compilation\n",
    "# model.compile(loss='mse', \n",
    "#               optimizer='rmsprop')  # Recommanded optimizer for RNN\n",
    "# # The fit\n",
    "# model.fit(X_train, y_train,\n",
    "#          batch_size=16,\n",
    "#          epochs=10, verbose=0)\n"
   ]
  },
  {
   "cell_type": "code",
   "execution_count": 14,
   "id": "a1e1e093",
   "metadata": {},
   "outputs": [],
   "source": [
    "# model.evaluate(X_test, y_test)"
   ]
  },
  {
   "cell_type": "code",
   "execution_count": 15,
   "id": "2341d951",
   "metadata": {},
   "outputs": [],
   "source": [
    "# mse = np.square(np.subtract(y_test,model.predict(X_test))).mean()\n",
    "# rmse = np.sqrt(mse)\n",
    "# rmse"
   ]
  },
  {
   "cell_type": "code",
   "execution_count": 16,
   "id": "6f96edb5",
   "metadata": {},
   "outputs": [],
   "source": [
    "# average_y = y_test.mean()"
   ]
  },
  {
   "cell_type": "code",
   "execution_count": 17,
   "id": "1d90b92c",
   "metadata": {},
   "outputs": [],
   "source": [
    "# print('Baseline')\n",
    "# print('mse', np.square(np.subtract(y_test,average_y)).mean())\n",
    "# print('rmse', np.sqrt(np.square(np.subtract(y_test,average_y)).mean()))"
   ]
  },
  {
   "cell_type": "code",
   "execution_count": 31,
   "id": "e86707e0",
   "metadata": {},
   "outputs": [],
   "source": [
    "def init_model():\n",
    "    \n",
    "#     model = Sequential()\n",
    "#     model.add(layers.LSTM(20, return_sequences=True, activation='tanh', input_shape=(X_train.shape[1],1)))\n",
    "#     model.add(layers.LSTM(10, return_sequences=True, activation='tanh'))\n",
    "#     model.add(layers.Dense(5, activation='relu'))\n",
    "#     model.add(layers.Dense(1, activation='linear'))\n",
    "    \n",
    "\n",
    "    \n",
    "    opt = RMSprop(learning_rate=0.005)\n",
    "    normalizer = Normalization()\n",
    "    normalizer.adapt(X_train)\n",
    "\n",
    "    model = Sequential()\n",
    "#     model.add(normalizer)\n",
    "    model.add(layers.LSTM(200, return_sequences=True, activation='tanh', input_shape=(X_train.shape[1],1)))\n",
    "    model.add(layers.LSTM(100, activation='tanh'))\n",
    "    model.add(layers.Dense(5, activation='relu'))\n",
    "    model.add(layers.Dense(1, activation='linear'))\n",
    "    \n",
    "    model.compile(loss='mse', \n",
    "                  optimizer='rmsprop', \n",
    "                  metrics=['mae'])\n",
    "#     model.compile(loss='mse', \n",
    "#                   optimizer=RMSprop(learning_rate=0.0003), \n",
    "#                   metrics=['mae'])\n",
    "    \n",
    "    return model"
   ]
  },
  {
   "cell_type": "code",
   "execution_count": 32,
   "id": "59977d2f",
   "metadata": {},
   "outputs": [
    {
     "name": "stdout",
     "output_type": "stream",
     "text": [
      "Model: \"sequential_7\"\n",
      "_________________________________________________________________\n",
      "Layer (type)                 Output Shape              Param #   \n",
      "=================================================================\n",
      "lstm_18 (LSTM)               (None, 53, 200)           161600    \n",
      "_________________________________________________________________\n",
      "lstm_19 (LSTM)               (None, 100)               120400    \n",
      "_________________________________________________________________\n",
      "dense_9 (Dense)              (None, 5)                 505       \n",
      "_________________________________________________________________\n",
      "dense_10 (Dense)             (None, 1)                 6         \n",
      "=================================================================\n",
      "Total params: 282,511\n",
      "Trainable params: 282,511\n",
      "Non-trainable params: 0\n",
      "_________________________________________________________________\n"
     ]
    }
   ],
   "source": [
    "model = init_model()\n",
    "model.summary()"
   ]
  },
  {
   "cell_type": "code",
   "execution_count": null,
   "id": "46404cea",
   "metadata": {},
   "outputs": [],
   "source": [
    "from tensorflow.keras.callbacks import EarlyStopping\n",
    "es = EarlyStopping(monitor='val_loss', verbose=1, patience=10, restore_best_weights=True)\n",
    "\n",
    "history = model.fit(X_train, y_train,\n",
    "            validation_split=0.2,\n",
    "            epochs=500, \n",
    "            batch_size=64,\n",
    "            callbacks=[es], verbose=0)"
   ]
  },
  {
   "cell_type": "code",
   "execution_count": null,
   "id": "bc3d7812",
   "metadata": {},
   "outputs": [],
   "source": [
    "history.history.keys()"
   ]
  },
  {
   "cell_type": "code",
   "execution_count": null,
   "id": "07ef5924",
   "metadata": {},
   "outputs": [],
   "source": [
    "import matplotlib.pyplot as plt\n",
    "plt.plot(history.history['loss'])\n",
    "plt.plot(history.history['val_loss'])\n",
    "plt.show()\n",
    "plt.plot(history.history['mae'])\n",
    "plt.plot(history.history['val_mae'])"
   ]
  },
  {
   "cell_type": "code",
   "execution_count": null,
   "id": "959322bb",
   "metadata": {},
   "outputs": [],
   "source": [
    "res = model.evaluate(X_test, y_test, verbose=0)\n",
    "\n",
    "print(f'mae on the test set : {res[1]:.0f}')"
   ]
  },
  {
   "cell_type": "code",
   "execution_count": null,
   "id": "c99ac0e4",
   "metadata": {},
   "outputs": [],
   "source": [
    "res"
   ]
  },
  {
   "cell_type": "code",
   "execution_count": null,
   "id": "9897bc9b",
   "metadata": {},
   "outputs": [],
   "source": []
  }
 ],
 "metadata": {
  "kernelspec": {
   "display_name": "Python 3",
   "language": "python",
   "name": "python3"
  },
  "language_info": {
   "codemirror_mode": {
    "name": "ipython",
    "version": 3
   },
   "file_extension": ".py",
   "mimetype": "text/x-python",
   "name": "python",
   "nbconvert_exporter": "python",
   "pygments_lexer": "ipython3",
   "version": "3.8.6"
  },
  "toc": {
   "base_numbering": 1,
   "nav_menu": {},
   "number_sections": true,
   "sideBar": true,
   "skip_h1_title": false,
   "title_cell": "Table of Contents",
   "title_sidebar": "Contents",
   "toc_cell": false,
   "toc_position": {},
   "toc_section_display": true,
   "toc_window_display": false
  }
 },
 "nbformat": 4,
 "nbformat_minor": 5
}
