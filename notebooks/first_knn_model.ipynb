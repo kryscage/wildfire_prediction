{
 "cells": [
  {
   "cell_type": "markdown",
   "id": "4b77933d",
   "metadata": {},
   "source": [
    "# Pipeline"
   ]
  },
  {
   "cell_type": "code",
   "execution_count": 128,
   "id": "a0ade8e2",
   "metadata": {},
   "outputs": [],
   "source": [
    "import pandas as pd\n",
    "import numpy as np\n",
    "from sklearn.preprocessing import OneHotEncoder, StandardScaler\n",
    "from sklearn.impute import KNNImputer\n",
    "from tensorflow.keras.models import Sequential\n",
    "from tensorflow.keras import layers\n",
    "from sklearn.pipeline import Pipeline\n",
    "from sklearn.model_selection import train_test_split\n",
    "from sklearn.compose import ColumnTransformer\n",
    "from sklearn.linear_model import LinearRegression\n",
    "from sklearn.neighbors import KNeighborsRegressor\n",
    "\n",
    "\n",
    "from tensorflow.keras.models import Sequential\n",
    "from tensorflow.keras.layers import LSTM, Dense ,Dropout\n",
    "\n",
    "from sklearn import set_config\n",
    "\n",
    "set_config(display='diagram')"
   ]
  },
  {
   "cell_type": "code",
   "execution_count": 120,
   "id": "b4eb43b0",
   "metadata": {},
   "outputs": [],
   "source": [
    "#Import data as df\n",
    "df = pd.read_csv('../wildfire_prediction/data/merged_file.csv', index_col=0)"
   ]
  },
  {
   "cell_type": "code",
   "execution_count": 121,
   "id": "39fd76a0",
   "metadata": {},
   "outputs": [
    {
     "name": "stdout",
     "output_type": "stream",
     "text": [
      "<class 'pandas.core.frame.DataFrame'>\n",
      "Int64Index: 40971 entries, 0 to 40970\n",
      "Data columns (total 49 columns):\n",
      " #   Column                                                    Non-Null Count  Dtype  \n",
      "---  ------                                                    --------------  -----  \n",
      " 0   Date_x                                                    40971 non-null  object \n",
      " 1   Region                                                    40971 non-null  object \n",
      " 2   count()[unit: km^2]                                       40971 non-null  float64\n",
      " 3   max() Precipitation                                       40964 non-null  float64\n",
      " 4   max() RelativeHumidity                                    40929 non-null  float64\n",
      " 5   max() SoilWaterContent                                    40971 non-null  float64\n",
      " 6   max() SolarRadiation                                      40957 non-null  float64\n",
      " 7   max() Temperature                                         40957 non-null  float64\n",
      " 8   max() WindSpeed                                           40943 non-null  float64\n",
      " 9   mean() Precipitation                                      40964 non-null  float64\n",
      " 10  mean() RelativeHumidity                                   40929 non-null  float64\n",
      " 11  mean() SoilWaterContent                                   40971 non-null  float64\n",
      " 12  mean() SolarRadiation                                     40957 non-null  float64\n",
      " 13  mean() Temperature                                        40957 non-null  float64\n",
      " 14  mean() WindSpeed                                          40943 non-null  float64\n",
      " 15  min() Precipitation                                       40964 non-null  float64\n",
      " 16  min() RelativeHumidity                                    40929 non-null  float64\n",
      " 17  min() SoilWaterContent                                    40971 non-null  float64\n",
      " 18  min() SolarRadiation                                      40957 non-null  float64\n",
      " 19  min() Temperature                                         40957 non-null  float64\n",
      " 20  min() WindSpeed                                           40943 non-null  float64\n",
      " 21  variance() Precipitation                                  40964 non-null  float64\n",
      " 22  variance() RelativeHumidity                               40929 non-null  float64\n",
      " 23  variance() SoilWaterContent                               40971 non-null  float64\n",
      " 24  variance() SolarRadiation                                 40957 non-null  float64\n",
      " 25  variance() Temperature                                    40957 non-null  float64\n",
      " 26  variance() WindSpeed                                      40943 non-null  float64\n",
      " 27  Year                                                      40971 non-null  int64  \n",
      " 28  Month                                                     40971 non-null  int64  \n",
      " 29  Day                                                       40971 non-null  int64  \n",
      " 30  Estimated_fire_area                                       26667 non-null  float64\n",
      " 31  Mean_estimated_fire_brightness                            26667 non-null  float64\n",
      " 32  Mean_estimated_fire_radiative_power                       26667 non-null  float64\n",
      " 33  Vegetation_index_mean                                     40908 non-null  float64\n",
      " 34  Vegetation_index_variance                                 40908 non-null  float64\n",
      " 35  Shrubs                                                    40971 non-null  float64\n",
      " 36  Herbaceous vegetation                                     40971 non-null  float64\n",
      " 37  Cultivated and managed vegetation/agriculture (cropland)  40971 non-null  float64\n",
      " 38  Urban / built up                                          40971 non-null  float64\n",
      " 39  Bare / sparse vegetation                                  40971 non-null  float64\n",
      " 40  Permanent water bodies                                    40971 non-null  float64\n",
      " 41  Herbaceous wetland                                        40971 non-null  float64\n",
      " 42  Closed forest, evergreen, broad leaf                      40971 non-null  float64\n",
      " 43  Closed forest, deciduous broad leaf                       40971 non-null  float64\n",
      " 44  Closed forest, unknown                                    40971 non-null  float64\n",
      " 45  Open forest, evergreen broad leaf                         40971 non-null  float64\n",
      " 46  Open forest, deciduous broad leaf                         40971 non-null  float64\n",
      " 47  Open forest, unknown definitions                          40971 non-null  float64\n",
      " 48  Open sea                                                  40971 non-null  float64\n",
      "dtypes: float64(44), int64(3), object(2)\n",
      "memory usage: 15.6+ MB\n"
     ]
    }
   ],
   "source": [
    "df.info()"
   ]
  },
  {
   "cell_type": "code",
   "execution_count": 122,
   "id": "f49886b8",
   "metadata": {},
   "outputs": [
    {
     "data": {
      "text/plain": [
       "Date_x                                                          0\n",
       "Region                                                          0\n",
       "count()[unit: km^2]                                             0\n",
       "max() Precipitation                                             7\n",
       "max() RelativeHumidity                                         42\n",
       "max() SoilWaterContent                                          0\n",
       "max() SolarRadiation                                           14\n",
       "max() Temperature                                              14\n",
       "max() WindSpeed                                                28\n",
       "mean() Precipitation                                            7\n",
       "mean() RelativeHumidity                                        42\n",
       "mean() SoilWaterContent                                         0\n",
       "mean() SolarRadiation                                          14\n",
       "mean() Temperature                                             14\n",
       "mean() WindSpeed                                               28\n",
       "min() Precipitation                                             7\n",
       "min() RelativeHumidity                                         42\n",
       "min() SoilWaterContent                                          0\n",
       "min() SolarRadiation                                           14\n",
       "min() Temperature                                              14\n",
       "min() WindSpeed                                                28\n",
       "variance() Precipitation                                        7\n",
       "variance() RelativeHumidity                                    42\n",
       "variance() SoilWaterContent                                     0\n",
       "variance() SolarRadiation                                      14\n",
       "variance() Temperature                                         14\n",
       "variance() WindSpeed                                           28\n",
       "Year                                                            0\n",
       "Month                                                           0\n",
       "Day                                                             0\n",
       "Estimated_fire_area                                         14304\n",
       "Mean_estimated_fire_brightness                              14304\n",
       "Mean_estimated_fire_radiative_power                         14304\n",
       "Vegetation_index_mean                                          63\n",
       "Vegetation_index_variance                                      63\n",
       "Shrubs                                                          0\n",
       "Herbaceous vegetation                                           0\n",
       "Cultivated and managed vegetation/agriculture (cropland)        0\n",
       "Urban / built up                                                0\n",
       "Bare / sparse vegetation                                        0\n",
       "Permanent water bodies                                          0\n",
       "Herbaceous wetland                                              0\n",
       "Closed forest, evergreen, broad leaf                            0\n",
       "Closed forest, deciduous broad leaf                             0\n",
       "Closed forest, unknown                                          0\n",
       "Open forest, evergreen broad leaf                               0\n",
       "Open forest, deciduous broad leaf                               0\n",
       "Open forest, unknown definitions                                0\n",
       "Open sea                                                        0\n",
       "dtype: int64"
      ]
     },
     "execution_count": 122,
     "metadata": {},
     "output_type": "execute_result"
    }
   ],
   "source": [
    "df.isna().sum()"
   ]
  },
  {
   "cell_type": "code",
   "execution_count": 123,
   "id": "29954e8c",
   "metadata": {},
   "outputs": [],
   "source": [
    "df.Estimated_fire_area.fillna(0, inplace=True)\n",
    "df.Mean_estimated_fire_brightness.fillna(0, inplace=True)\n",
    "df.Mean_estimated_fire_radiative_power.fillna(0, inplace=True)"
   ]
  },
  {
   "cell_type": "code",
   "execution_count": 124,
   "id": "2841d4d7",
   "metadata": {},
   "outputs": [
    {
     "data": {
      "text/plain": [
       "(40971, 49)"
      ]
     },
     "execution_count": 124,
     "metadata": {},
     "output_type": "execute_result"
    }
   ],
   "source": [
    "df.shape"
   ]
  },
  {
   "cell_type": "code",
   "execution_count": 109,
   "id": "f70a050f",
   "metadata": {},
   "outputs": [],
   "source": [
    "#KNN imputer\n",
    "imputer = KNNImputer()\n",
    "\n",
    "# model = Sequential()\n",
    "# model.add(layers.SimpleRNN(units=2, activation='tanh'))\n",
    "# model.add(layers.Dense(1, activation=\"linear\"))\n",
    "\n",
    "# # The compilation\n",
    "# model.compile(loss='mse', \n",
    "#               optimizer='rmsprop')\n",
    "\n",
    "model = KNeighborsRegressor()"
   ]
  },
  {
   "cell_type": "code",
   "execution_count": 110,
   "id": "aadcc072",
   "metadata": {},
   "outputs": [],
   "source": [
    "X = df.drop(columns=['Estimated_fire_area', 'Date_x'])\n",
    "y = df.Estimated_fire_area\n",
    "\n",
    "X_train, X_test, y_train, y_test = train_test_split(X,y)"
   ]
  },
  {
   "cell_type": "code",
   "execution_count": 111,
   "id": "5e79ca59",
   "metadata": {},
   "outputs": [
    {
     "data": {
      "text/plain": [
       "Index(['count()[unit: km^2]', 'max() Precipitation', 'max() RelativeHumidity',\n",
       "       'max() SoilWaterContent', 'max() SolarRadiation', 'max() Temperature',\n",
       "       'max() WindSpeed', 'mean() Precipitation', 'mean() RelativeHumidity',\n",
       "       'mean() SoilWaterContent', 'mean() SolarRadiation',\n",
       "       'mean() Temperature', 'mean() WindSpeed', 'min() Precipitation',\n",
       "       'min() RelativeHumidity', 'min() SoilWaterContent',\n",
       "       'min() SolarRadiation', 'min() Temperature', 'min() WindSpeed',\n",
       "       'variance() Precipitation', 'variance() RelativeHumidity',\n",
       "       'variance() SoilWaterContent', 'variance() SolarRadiation',\n",
       "       'variance() Temperature', 'variance() WindSpeed', 'Year', 'Month',\n",
       "       'Day', 'Mean_estimated_fire_brightness',\n",
       "       'Mean_estimated_fire_radiative_power', 'Vegetation_index_mean',\n",
       "       'Vegetation_index_variance', 'Shrubs', 'Herbaceous vegetation',\n",
       "       'Cultivated and managed vegetation/agriculture (cropland)',\n",
       "       'Urban / built up', 'Bare / sparse vegetation',\n",
       "       'Permanent water bodies', 'Herbaceous wetland',\n",
       "       'Closed forest, evergreen, broad leaf',\n",
       "       'Closed forest, deciduous broad leaf', 'Closed forest, unknown',\n",
       "       'Open forest, evergreen broad leaf',\n",
       "       'Open forest, deciduous broad leaf', 'Open forest, unknown definitions',\n",
       "       'Open sea'],\n",
       "      dtype='object')"
      ]
     },
     "execution_count": 111,
     "metadata": {},
     "output_type": "execute_result"
    }
   ],
   "source": [
    "X.dtypes[(df.dtypes == 'float64') | (X.dtypes == 'int64')].index"
   ]
  },
  {
   "cell_type": "code",
   "execution_count": 112,
   "id": "2b8fe651",
   "metadata": {},
   "outputs": [],
   "source": [
    "numeric_features = X.dtypes[(X.dtypes == 'float64') | (X.dtypes == 'int64')].index\n",
    "categorical_features = X.dtypes[(X.dtypes != 'float64') | (X.dtypes != 'int64')].index\n",
    "\n",
    "\n",
    "numeric_transformer = Pipeline(steps=[\n",
    "    ('imputer', KNNImputer()),\n",
    "    ('scaler', StandardScaler())])\n",
    "\n",
    "categorical_transformer = OneHotEncoder(handle_unknown='ignore')\n",
    "\n",
    "preprocessor = ColumnTransformer(\n",
    "    transformers=[\n",
    "        ('num', numeric_transformer, numeric_features),\n",
    "        ('cat', categorical_transformer, categorical_features)\n",
    "    ],\n",
    "        remainder='passthrough'\n",
    "        )\n",
    "\n",
    "\n",
    "\n",
    "pipe = Pipeline([\n",
    "    ('pre', preprocessor),\n",
    "    ('model', model),\n",
    "])"
   ]
  },
  {
   "cell_type": "code",
   "execution_count": 113,
   "id": "9365fc6b",
   "metadata": {},
   "outputs": [
    {
     "data": {
      "text/html": [
       "<style>#sk-e29491e0-14ed-47a4-97b3-d7e26cc08e0e {color: black;background-color: white;}#sk-e29491e0-14ed-47a4-97b3-d7e26cc08e0e pre{padding: 0;}#sk-e29491e0-14ed-47a4-97b3-d7e26cc08e0e div.sk-toggleable {background-color: white;}#sk-e29491e0-14ed-47a4-97b3-d7e26cc08e0e label.sk-toggleable__label {cursor: pointer;display: block;width: 100%;margin-bottom: 0;padding: 0.2em 0.3em;box-sizing: border-box;text-align: center;}#sk-e29491e0-14ed-47a4-97b3-d7e26cc08e0e div.sk-toggleable__content {max-height: 0;max-width: 0;overflow: hidden;text-align: left;background-color: #f0f8ff;}#sk-e29491e0-14ed-47a4-97b3-d7e26cc08e0e div.sk-toggleable__content pre {margin: 0.2em;color: black;border-radius: 0.25em;background-color: #f0f8ff;}#sk-e29491e0-14ed-47a4-97b3-d7e26cc08e0e input.sk-toggleable__control:checked~div.sk-toggleable__content {max-height: 200px;max-width: 100%;overflow: auto;}#sk-e29491e0-14ed-47a4-97b3-d7e26cc08e0e div.sk-estimator input.sk-toggleable__control:checked~label.sk-toggleable__label {background-color: #d4ebff;}#sk-e29491e0-14ed-47a4-97b3-d7e26cc08e0e div.sk-label input.sk-toggleable__control:checked~label.sk-toggleable__label {background-color: #d4ebff;}#sk-e29491e0-14ed-47a4-97b3-d7e26cc08e0e input.sk-hidden--visually {border: 0;clip: rect(1px 1px 1px 1px);clip: rect(1px, 1px, 1px, 1px);height: 1px;margin: -1px;overflow: hidden;padding: 0;position: absolute;width: 1px;}#sk-e29491e0-14ed-47a4-97b3-d7e26cc08e0e div.sk-estimator {font-family: monospace;background-color: #f0f8ff;margin: 0.25em 0.25em;border: 1px dotted black;border-radius: 0.25em;box-sizing: border-box;}#sk-e29491e0-14ed-47a4-97b3-d7e26cc08e0e div.sk-estimator:hover {background-color: #d4ebff;}#sk-e29491e0-14ed-47a4-97b3-d7e26cc08e0e div.sk-parallel-item::after {content: \"\";width: 100%;border-bottom: 1px solid gray;flex-grow: 1;}#sk-e29491e0-14ed-47a4-97b3-d7e26cc08e0e div.sk-label:hover label.sk-toggleable__label {background-color: #d4ebff;}#sk-e29491e0-14ed-47a4-97b3-d7e26cc08e0e div.sk-serial::before {content: \"\";position: absolute;border-left: 1px solid gray;box-sizing: border-box;top: 2em;bottom: 0;left: 50%;}#sk-e29491e0-14ed-47a4-97b3-d7e26cc08e0e div.sk-serial {display: flex;flex-direction: column;align-items: center;background-color: white;}#sk-e29491e0-14ed-47a4-97b3-d7e26cc08e0e div.sk-item {z-index: 1;}#sk-e29491e0-14ed-47a4-97b3-d7e26cc08e0e div.sk-parallel {display: flex;align-items: stretch;justify-content: center;background-color: white;}#sk-e29491e0-14ed-47a4-97b3-d7e26cc08e0e div.sk-parallel-item {display: flex;flex-direction: column;position: relative;background-color: white;}#sk-e29491e0-14ed-47a4-97b3-d7e26cc08e0e div.sk-parallel-item:first-child::after {align-self: flex-end;width: 50%;}#sk-e29491e0-14ed-47a4-97b3-d7e26cc08e0e div.sk-parallel-item:last-child::after {align-self: flex-start;width: 50%;}#sk-e29491e0-14ed-47a4-97b3-d7e26cc08e0e div.sk-parallel-item:only-child::after {width: 0;}#sk-e29491e0-14ed-47a4-97b3-d7e26cc08e0e div.sk-dashed-wrapped {border: 1px dashed gray;margin: 0.2em;box-sizing: border-box;padding-bottom: 0.1em;background-color: white;position: relative;}#sk-e29491e0-14ed-47a4-97b3-d7e26cc08e0e div.sk-label label {font-family: monospace;font-weight: bold;background-color: white;display: inline-block;line-height: 1.2em;}#sk-e29491e0-14ed-47a4-97b3-d7e26cc08e0e div.sk-label-container {position: relative;z-index: 2;text-align: center;}#sk-e29491e0-14ed-47a4-97b3-d7e26cc08e0e div.sk-container {display: inline-block;position: relative;}</style><div id=\"sk-e29491e0-14ed-47a4-97b3-d7e26cc08e0e\" class\"sk-top-container\"><div class=\"sk-container\"><div class=\"sk-item sk-dashed-wrapped\"><div class=\"sk-label-container\"><div class=\"sk-label sk-toggleable\"><input class=\"sk-toggleable__control sk-hidden--visually\" id=\"56f1915e-67e0-497d-b240-4a8369c7e4ab\" type=\"checkbox\" ><label class=\"sk-toggleable__label\" for=\"56f1915e-67e0-497d-b240-4a8369c7e4ab\">Pipeline</label><div class=\"sk-toggleable__content\"><pre>Pipeline(steps=[('pre',\n",
       "                 ColumnTransformer(remainder='passthrough',\n",
       "                                   transformers=[('num',\n",
       "                                                  Pipeline(steps=[('imputer',\n",
       "                                                                   KNNImputer()),\n",
       "                                                                  ('scaler',\n",
       "                                                                   StandardScaler())]),\n",
       "                                                  Index(['count()[unit: km^2]', 'max() Precipitation', 'max() RelativeHumidity',\n",
       "       'max() SoilWaterContent', 'max() SolarRadiation', 'max() Temperature',\n",
       "       'max() WindSpeed', 'mean() Precipitation', 'mean() RelativeH...\n",
       "       'Cultivated and managed vegetation/agriculture (cropland)',\n",
       "       'Urban / built up', 'Bare / sparse vegetation',\n",
       "       'Permanent water bodies', 'Herbaceous wetland',\n",
       "       'Closed forest, evergreen, broad leaf',\n",
       "       'Closed forest, deciduous broad leaf', 'Closed forest, unknown',\n",
       "       'Open forest, evergreen broad leaf',\n",
       "       'Open forest, deciduous broad leaf', 'Open forest, unknown definitions',\n",
       "       'Open sea'],\n",
       "      dtype='object'))])),\n",
       "                ('model', KNeighborsRegressor())])</pre></div></div></div><div class=\"sk-serial\"><div class=\"sk-item sk-dashed-wrapped\"><div class=\"sk-label-container\"><div class=\"sk-label sk-toggleable\"><input class=\"sk-toggleable__control sk-hidden--visually\" id=\"e1c10845-4aca-4ea2-81c4-397b92169c0c\" type=\"checkbox\" ><label class=\"sk-toggleable__label\" for=\"e1c10845-4aca-4ea2-81c4-397b92169c0c\">pre: ColumnTransformer</label><div class=\"sk-toggleable__content\"><pre>ColumnTransformer(remainder='passthrough',\n",
       "                  transformers=[('num',\n",
       "                                 Pipeline(steps=[('imputer', KNNImputer()),\n",
       "                                                 ('scaler', StandardScaler())]),\n",
       "                                 Index(['count()[unit: km^2]', 'max() Precipitation', 'max() RelativeHumidity',\n",
       "       'max() SoilWaterContent', 'max() SolarRadiation', 'max() Temperature',\n",
       "       'max() WindSpeed', 'mean() Precipitation', 'mean() RelativeHumidity',\n",
       "       'mean() SoilWat...\n",
       "       'Cultivated and managed vegetation/agriculture (cropland)',\n",
       "       'Urban / built up', 'Bare / sparse vegetation',\n",
       "       'Permanent water bodies', 'Herbaceous wetland',\n",
       "       'Closed forest, evergreen, broad leaf',\n",
       "       'Closed forest, deciduous broad leaf', 'Closed forest, unknown',\n",
       "       'Open forest, evergreen broad leaf',\n",
       "       'Open forest, deciduous broad leaf', 'Open forest, unknown definitions',\n",
       "       'Open sea'],\n",
       "      dtype='object'))])</pre></div></div></div><div class=\"sk-parallel\"><div class=\"sk-parallel-item\"><div class=\"sk-item\"><div class=\"sk-label-container\"><div class=\"sk-label sk-toggleable\"><input class=\"sk-toggleable__control sk-hidden--visually\" id=\"d5e4b9ac-2bb5-4c6b-bbbc-1d36a7135e88\" type=\"checkbox\" ><label class=\"sk-toggleable__label\" for=\"d5e4b9ac-2bb5-4c6b-bbbc-1d36a7135e88\">num</label><div class=\"sk-toggleable__content\"><pre>Index(['count()[unit: km^2]', 'max() Precipitation', 'max() RelativeHumidity',\n",
       "       'max() SoilWaterContent', 'max() SolarRadiation', 'max() Temperature',\n",
       "       'max() WindSpeed', 'mean() Precipitation', 'mean() RelativeHumidity',\n",
       "       'mean() SoilWaterContent', 'mean() SolarRadiation',\n",
       "       'mean() Temperature', 'mean() WindSpeed', 'min() Precipitation',\n",
       "       'min() RelativeHumidity', 'min() SoilWaterContent',\n",
       "       'min() SolarRadiation', 'min() Temperature', 'min() WindSpeed',\n",
       "       'variance() Precipitation', 'variance() RelativeHumidity',\n",
       "       'variance() SoilWaterContent', 'variance() SolarRadiation',\n",
       "       'variance() Temperature', 'variance() WindSpeed', 'Year', 'Month',\n",
       "       'Day', 'Mean_estimated_fire_brightness',\n",
       "       'Mean_estimated_fire_radiative_power', 'Vegetation_index_mean',\n",
       "       'Vegetation_index_variance', 'Shrubs', 'Herbaceous vegetation',\n",
       "       'Cultivated and managed vegetation/agriculture (cropland)',\n",
       "       'Urban / built up', 'Bare / sparse vegetation',\n",
       "       'Permanent water bodies', 'Herbaceous wetland',\n",
       "       'Closed forest, evergreen, broad leaf',\n",
       "       'Closed forest, deciduous broad leaf', 'Closed forest, unknown',\n",
       "       'Open forest, evergreen broad leaf',\n",
       "       'Open forest, deciduous broad leaf', 'Open forest, unknown definitions',\n",
       "       'Open sea'],\n",
       "      dtype='object')</pre></div></div></div><div class=\"sk-serial\"><div class=\"sk-item\"><div class=\"sk-serial\"><div class=\"sk-item\"><div class=\"sk-estimator sk-toggleable\"><input class=\"sk-toggleable__control sk-hidden--visually\" id=\"f2384ef4-27dd-4ab1-afd1-ca8950d6f127\" type=\"checkbox\" ><label class=\"sk-toggleable__label\" for=\"f2384ef4-27dd-4ab1-afd1-ca8950d6f127\">KNNImputer</label><div class=\"sk-toggleable__content\"><pre>KNNImputer()</pre></div></div></div><div class=\"sk-item\"><div class=\"sk-estimator sk-toggleable\"><input class=\"sk-toggleable__control sk-hidden--visually\" id=\"95c1e4d2-08d8-480a-abe4-fc4eb67ec8e2\" type=\"checkbox\" ><label class=\"sk-toggleable__label\" for=\"95c1e4d2-08d8-480a-abe4-fc4eb67ec8e2\">StandardScaler</label><div class=\"sk-toggleable__content\"><pre>StandardScaler()</pre></div></div></div></div></div></div></div></div><div class=\"sk-parallel-item\"><div class=\"sk-item\"><div class=\"sk-label-container\"><div class=\"sk-label sk-toggleable\"><input class=\"sk-toggleable__control sk-hidden--visually\" id=\"a39ba733-36cf-4f34-8af4-4c9f156d6249\" type=\"checkbox\" ><label class=\"sk-toggleable__label\" for=\"a39ba733-36cf-4f34-8af4-4c9f156d6249\">cat</label><div class=\"sk-toggleable__content\"><pre>Index(['Region', 'count()[unit: km^2]', 'max() Precipitation',\n",
       "       'max() RelativeHumidity', 'max() SoilWaterContent',\n",
       "       'max() SolarRadiation', 'max() Temperature', 'max() WindSpeed',\n",
       "       'mean() Precipitation', 'mean() RelativeHumidity',\n",
       "       'mean() SoilWaterContent', 'mean() SolarRadiation',\n",
       "       'mean() Temperature', 'mean() WindSpeed', 'min() Precipitation',\n",
       "       'min() RelativeHumidity', 'min() SoilWaterContent',\n",
       "       'min() SolarRadiation', 'min() Temperature', 'min() WindSpeed',\n",
       "       'variance() Precipitation', 'variance() RelativeHumidity',\n",
       "       'variance() SoilWaterContent', 'variance() SolarRadiation',\n",
       "       'variance() Temperature', 'variance() WindSpeed', 'Year', 'Month',\n",
       "       'Day', 'Mean_estimated_fire_brightness',\n",
       "       'Mean_estimated_fire_radiative_power', 'Vegetation_index_mean',\n",
       "       'Vegetation_index_variance', 'Shrubs', 'Herbaceous vegetation',\n",
       "       'Cultivated and managed vegetation/agriculture (cropland)',\n",
       "       'Urban / built up', 'Bare / sparse vegetation',\n",
       "       'Permanent water bodies', 'Herbaceous wetland',\n",
       "       'Closed forest, evergreen, broad leaf',\n",
       "       'Closed forest, deciduous broad leaf', 'Closed forest, unknown',\n",
       "       'Open forest, evergreen broad leaf',\n",
       "       'Open forest, deciduous broad leaf', 'Open forest, unknown definitions',\n",
       "       'Open sea'],\n",
       "      dtype='object')</pre></div></div></div><div class=\"sk-serial\"><div class=\"sk-item\"><div class=\"sk-estimator sk-toggleable\"><input class=\"sk-toggleable__control sk-hidden--visually\" id=\"3268701f-53fc-43dd-8036-64a531ef05a0\" type=\"checkbox\" ><label class=\"sk-toggleable__label\" for=\"3268701f-53fc-43dd-8036-64a531ef05a0\">OneHotEncoder</label><div class=\"sk-toggleable__content\"><pre>OneHotEncoder(handle_unknown='ignore')</pre></div></div></div></div></div></div><div class=\"sk-parallel-item\"><div class=\"sk-item\"><div class=\"sk-label-container\"><div class=\"sk-label sk-toggleable\"><input class=\"sk-toggleable__control sk-hidden--visually\" id=\"0927420c-32e6-48fd-b19c-2e4dbe592f31\" type=\"checkbox\" ><label class=\"sk-toggleable__label\" for=\"0927420c-32e6-48fd-b19c-2e4dbe592f31\">remainder</label><div class=\"sk-toggleable__content\"><pre>[['Region', 'count()[unit: km^2]', 'max() Precipitation', 'max() RelativeHumidity', 'max() SoilWaterContent', 'max() SolarRadiation', 'max() Temperature', 'max() WindSpeed', 'mean() Precipitation', 'mean() RelativeHumidity', 'mean() SoilWaterContent', 'mean() SolarRadiation', 'mean() Temperature', 'mean() WindSpeed', 'min() Precipitation', 'min() RelativeHumidity', 'min() SoilWaterContent', 'min() SolarRadiation', 'min() Temperature', 'min() WindSpeed', 'variance() Precipitation', 'variance() RelativeHumidity', 'variance() SoilWaterContent', 'variance() SolarRadiation', 'variance() Temperature', 'variance() WindSpeed', 'Year', 'Month', 'Day', 'Mean_estimated_fire_brightness', 'Mean_estimated_fire_radiative_power', 'Vegetation_index_mean', 'Vegetation_index_variance', 'Shrubs', 'Herbaceous vegetation', 'Cultivated and managed vegetation/agriculture (cropland)', 'Urban / built up', 'Bare / sparse vegetation', 'Permanent water bodies', 'Herbaceous wetland', 'Closed forest, evergreen, broad leaf', 'Closed forest, deciduous broad leaf', 'Closed forest, unknown', 'Open forest, evergreen broad leaf', 'Open forest, deciduous broad leaf', 'Open forest, unknown definitions', 'Open sea']]</pre></div></div></div><div class=\"sk-serial\"><div class=\"sk-item\"><div class=\"sk-estimator sk-toggleable\"><input class=\"sk-toggleable__control sk-hidden--visually\" id=\"9c7f64e2-e53f-4eed-bd64-87cbab2d3186\" type=\"checkbox\" ><label class=\"sk-toggleable__label\" for=\"9c7f64e2-e53f-4eed-bd64-87cbab2d3186\">passthrough</label><div class=\"sk-toggleable__content\"><pre>passthrough</pre></div></div></div></div></div></div></div></div><div class=\"sk-item\"><div class=\"sk-estimator sk-toggleable\"><input class=\"sk-toggleable__control sk-hidden--visually\" id=\"568892b9-c831-4e25-b8d4-2094395d7bcd\" type=\"checkbox\" ><label class=\"sk-toggleable__label\" for=\"568892b9-c831-4e25-b8d4-2094395d7bcd\">KNeighborsRegressor</label><div class=\"sk-toggleable__content\"><pre>KNeighborsRegressor()</pre></div></div></div></div></div></div></div>"
      ],
      "text/plain": [
       "Pipeline(steps=[('pre',\n",
       "                 ColumnTransformer(remainder='passthrough',\n",
       "                                   transformers=[('num',\n",
       "                                                  Pipeline(steps=[('imputer',\n",
       "                                                                   KNNImputer()),\n",
       "                                                                  ('scaler',\n",
       "                                                                   StandardScaler())]),\n",
       "                                                  Index(['count()[unit: km^2]', 'max() Precipitation', 'max() RelativeHumidity',\n",
       "       'max() SoilWaterContent', 'max() SolarRadiation', 'max() Temperature',\n",
       "       'max() WindSpeed', 'mean() Precipitation', 'mean() RelativeH...\n",
       "       'Cultivated and managed vegetation/agriculture (cropland)',\n",
       "       'Urban / built up', 'Bare / sparse vegetation',\n",
       "       'Permanent water bodies', 'Herbaceous wetland',\n",
       "       'Closed forest, evergreen, broad leaf',\n",
       "       'Closed forest, deciduous broad leaf', 'Closed forest, unknown',\n",
       "       'Open forest, evergreen broad leaf',\n",
       "       'Open forest, deciduous broad leaf', 'Open forest, unknown definitions',\n",
       "       'Open sea'],\n",
       "      dtype='object'))])),\n",
       "                ('model', KNeighborsRegressor())])"
      ]
     },
     "execution_count": 113,
     "metadata": {},
     "output_type": "execute_result"
    }
   ],
   "source": [
    "pipe.fit(X_train, y_train)"
   ]
  },
  {
   "cell_type": "code",
   "execution_count": 114,
   "id": "0711aaa8",
   "metadata": {},
   "outputs": [
    {
     "data": {
      "text/plain": [
       "0.6835340693756753"
      ]
     },
     "execution_count": 114,
     "metadata": {},
     "output_type": "execute_result"
    }
   ],
   "source": [
    "pipe.score(X_test, y_test)"
   ]
  },
  {
   "cell_type": "code",
   "execution_count": 116,
   "id": "c7aff26b",
   "metadata": {},
   "outputs": [],
   "source": [
    "mse = np.square(np.subtract(y_test,pipe.predict(X_test))).mean()"
   ]
  },
  {
   "cell_type": "code",
   "execution_count": 117,
   "id": "451b8b02",
   "metadata": {},
   "outputs": [],
   "source": [
    "import math \n",
    "\n",
    "rmse = math.sqrt(mse)"
   ]
  },
  {
   "cell_type": "code",
   "execution_count": 118,
   "id": "38fd2439",
   "metadata": {},
   "outputs": [
    {
     "data": {
      "text/plain": [
       "145.02813114989223"
      ]
     },
     "execution_count": 118,
     "metadata": {},
     "output_type": "execute_result"
    }
   ],
   "source": [
    "rmse"
   ]
  },
  {
   "cell_type": "code",
   "execution_count": null,
   "id": "9a780202",
   "metadata": {},
   "outputs": [],
   "source": []
  }
 ],
 "metadata": {
  "kernelspec": {
   "display_name": "Python 3",
   "language": "python",
   "name": "python3"
  },
  "language_info": {
   "codemirror_mode": {
    "name": "ipython",
    "version": 3
   },
   "file_extension": ".py",
   "mimetype": "text/x-python",
   "name": "python",
   "nbconvert_exporter": "python",
   "pygments_lexer": "ipython3",
   "version": "3.8.6"
  },
  "toc": {
   "base_numbering": 1,
   "nav_menu": {},
   "number_sections": true,
   "sideBar": true,
   "skip_h1_title": false,
   "title_cell": "Table of Contents",
   "title_sidebar": "Contents",
   "toc_cell": false,
   "toc_position": {},
   "toc_section_display": true,
   "toc_window_display": false
  }
 },
 "nbformat": 4,
 "nbformat_minor": 5
}
