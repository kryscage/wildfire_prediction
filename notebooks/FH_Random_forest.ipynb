{
 "cells": [
  {
   "cell_type": "code",
   "execution_count": 1,
   "metadata": {},
   "outputs": [],
   "source": [
    "import pandas as pd\n",
    "import numpy as np\n",
    "import os"
   ]
  },
  {
   "cell_type": "code",
   "execution_count": 2,
   "metadata": {},
   "outputs": [],
   "source": [
    "root_path = os.path.dirname(os.path.abspath(os.path.curdir)) # 1 up from /notebooks (curdir) to main project folder\n",
    "data_folder_path = os.path.join(root_path, 'wildfire_prediction', 'data')\n",
    "data_file_path = os.path.join(data_folder_path, 'FH_data_final.csv')\n",
    "\n",
    "data = pd.read_csv(data_file_path)"
   ]
  },
  {
   "cell_type": "code",
   "execution_count": 93,
   "metadata": {},
   "outputs": [],
   "source": [
    "y = data.target\n",
    "X = data.drop(columns = ['target'])"
   ]
  },
  {
   "cell_type": "code",
   "execution_count": 94,
   "metadata": {},
   "outputs": [],
   "source": [
    "from sklearn.model_selection import train_test_split\n",
    "X_train, X_test, y_train, y_test = train_test_split(X, y, test_size=0.25, random_state=3)"
   ]
  },
  {
   "cell_type": "markdown",
   "metadata": {},
   "source": [
    "from sklearn.preprocessing import RobustScaler\n",
    "scaler = RobustScaler()\n",
    "X_train = scaler.fit_transform(X_train)\n",
    "X_test = scaler.fit_transform(X_test)"
   ]
  },
  {
   "cell_type": "code",
   "execution_count": 95,
   "metadata": {},
   "outputs": [
    {
     "data": {
      "text/plain": [
       "0.8547300595528654"
      ]
     },
     "execution_count": 95,
     "metadata": {},
     "output_type": "execute_result"
    }
   ],
   "source": [
    "from sklearn.ensemble import RandomForestClassifier\n",
    "rf_model = RandomForestClassifier(n_estimators = 700, criterion = 'entropy', max_depth = 100, random_state = 1)\n",
    "rf_model = rf_model.fit(X_train, y_train)\n",
    "result_rf =rf_model.predict(X_test)\n",
    "rf_model.score(X_test, y_test)"
   ]
  },
  {
   "cell_type": "code",
   "execution_count": 45,
   "metadata": {},
   "outputs": [
    {
     "data": {
      "text/plain": [
       "0.6508750091528154"
      ]
     },
     "execution_count": 45,
     "metadata": {},
     "output_type": "execute_result"
    }
   ],
   "source": [
    "number_fires =data.target.sum()\n",
    "total = len(data)\n",
    "fraction_fires = number_fires/total\n",
    "fraction_non_fire = 1 - fraction_fires\n",
    "fraction_fires"
   ]
  },
  {
   "cell_type": "markdown",
   "metadata": {},
   "source": [
    "## Score board"
   ]
  },
  {
   "cell_type": "markdown",
   "metadata": {},
   "source": [
    "1. 85.590%\n",
    "- n_estimators = 700\n",
    "- max_depth = 100\n",
    "- criterion = entropy\n",
    "- no scaling\n",
    "- random state = 1\n",
    "- Simplified model with forest summed up!"
   ]
  },
  {
   "cell_type": "markdown",
   "metadata": {},
   "source": [
    "2. 85.424%\n",
    "- n_estimators = 140\n",
    "- max_depth = 35\n",
    "- criterion = entropy\n",
    "- no scaling\n",
    "- random state = 1"
   ]
  },
  {
   "cell_type": "markdown",
   "metadata": {},
   "source": [
    "3. 85.287%\n",
    "- n_estimators = 140\n",
    "- max_depth = 35\n",
    "- no scaling\n",
    "- random state = 1"
   ]
  },
  {
   "cell_type": "code",
   "execution_count": 97,
   "metadata": {},
   "outputs": [
    {
     "data": {
      "text/plain": [
       "0        2.674939\n",
       "1        1.978179\n",
       "2        2.705698\n",
       "3        2.714264\n",
       "4        2.675571\n",
       "           ...   \n",
       "40966    1.984077\n",
       "40967    3.111762\n",
       "40968    3.176611\n",
       "40969    3.210898\n",
       "40970    2.926638\n",
       "Name: mean() SolarRadiation, Length: 40971, dtype: float64"
      ]
     },
     "execution_count": 97,
     "metadata": {},
     "output_type": "execute_result"
    }
   ],
   "source": [
    "data['mean() SolarRadiation']"
   ]
  },
  {
   "cell_type": "code",
   "execution_count": 71,
   "metadata": {},
   "outputs": [
    {
     "name": "stdout",
     "output_type": "stream",
     "text": [
      "<class 'pandas.core.frame.DataFrame'>\n",
      "RangeIndex: 40971 entries, 0 to 40970\n",
      "Data columns (total 35 columns):\n",
      " #   Column                                                    Non-Null Count  Dtype  \n",
      "---  ------                                                    --------------  -----  \n",
      " 0   Year                                                      40971 non-null  float64\n",
      " 1   Month                                                     40971 non-null  float64\n",
      " 2   Day                                                       40971 non-null  float64\n",
      " 3   count()[unit: km^2]                                       40971 non-null  float64\n",
      " 4   mean() Temperature                                        40971 non-null  float64\n",
      " 5   max() Temperature                                         40971 non-null  float64\n",
      " 6   min() Temperature                                         40971 non-null  float64\n",
      " 7   mean() WindSpeed                                          40971 non-null  float64\n",
      " 8   mean() RelativeHumidity                                   40971 non-null  float64\n",
      " 9   mean() Precipitation                                      40971 non-null  float64\n",
      " 10  mean() SolarRadiation                                     40971 non-null  float64\n",
      " 11  Vegetation_index_variance                                 40971 non-null  float64\n",
      " 12  Vegetation_index_mean                                     40971 non-null  float64\n",
      " 13  Shrubs                                                    40971 non-null  float64\n",
      " 14  Herbaceous vegetation                                     40971 non-null  float64\n",
      " 15  Cultivated and managed vegetation/agriculture (cropland)  40971 non-null  float64\n",
      " 16  Urban / built up                                          40971 non-null  float64\n",
      " 17  Bare / sparse vegetation                                  40971 non-null  float64\n",
      " 18  Permanent water bodies                                    40971 non-null  float64\n",
      " 19  Herbaceous wetland                                        40971 non-null  float64\n",
      " 20  Closed forest, evergreen, broad leaf                      40971 non-null  float64\n",
      " 21  Closed forest, deciduous broad leaf                       40971 non-null  float64\n",
      " 22  Closed forest, unknown                                    40971 non-null  float64\n",
      " 23  Open forest, evergreen broad leaf                         40971 non-null  float64\n",
      " 24  Open forest, deciduous broad leaf                         40971 non-null  float64\n",
      " 25  Open forest, unknown definitions                          40971 non-null  float64\n",
      " 26  Open sea                                                  40971 non-null  float64\n",
      " 27  target                                                    40971 non-null  float64\n",
      " 28  NSW                                                       40971 non-null  float64\n",
      " 29  NT                                                        40971 non-null  float64\n",
      " 30  QL                                                        40971 non-null  float64\n",
      " 31  SA                                                        40971 non-null  float64\n",
      " 32  TA                                                        40971 non-null  float64\n",
      " 33  VI                                                        40971 non-null  float64\n",
      " 34  WA                                                        40971 non-null  float64\n",
      "dtypes: float64(35)\n",
      "memory usage: 10.9 MB\n"
     ]
    }
   ],
   "source": [
    "data.info()"
   ]
  },
  {
   "cell_type": "code",
   "execution_count": 72,
   "metadata": {},
   "outputs": [],
   "source": [
    "data['forest'] = data['Closed forest, evergreen, broad leaf'] + data['Closed forest, deciduous broad leaf'] + data['Closed forest, unknown'] + data['Open forest, evergreen broad leaf']+ data['Open forest, deciduous broad leaf'] + data['Open forest, unknown definitions'] "
   ]
  },
  {
   "cell_type": "code",
   "execution_count": 73,
   "metadata": {},
   "outputs": [],
   "source": [
    "data.drop(columns = ['Closed forest, evergreen, broad leaf','Closed forest, deciduous broad leaf', 'Closed forest, unknown', 'Open forest, evergreen broad leaf', 'Open forest, deciduous broad leaf', 'Open forest, unknown definitions'], inplace= True)"
   ]
  },
  {
   "cell_type": "code",
   "execution_count": null,
   "metadata": {},
   "outputs": [],
   "source": []
  },
  {
   "cell_type": "markdown",
   "metadata": {},
   "source": [
    "# This helps!"
   ]
  },
  {
   "cell_type": "code",
   "execution_count": 75,
   "metadata": {},
   "outputs": [
    {
     "name": "stdout",
     "output_type": "stream",
     "text": [
      "<class 'pandas.core.frame.DataFrame'>\n",
      "RangeIndex: 40971 entries, 0 to 40970\n",
      "Data columns (total 30 columns):\n",
      " #   Column                                                    Non-Null Count  Dtype  \n",
      "---  ------                                                    --------------  -----  \n",
      " 0   Year                                                      40971 non-null  float64\n",
      " 1   Month                                                     40971 non-null  float64\n",
      " 2   Day                                                       40971 non-null  float64\n",
      " 3   count()[unit: km^2]                                       40971 non-null  float64\n",
      " 4   mean() Temperature                                        40971 non-null  float64\n",
      " 5   max() Temperature                                         40971 non-null  float64\n",
      " 6   min() Temperature                                         40971 non-null  float64\n",
      " 7   mean() WindSpeed                                          40971 non-null  float64\n",
      " 8   mean() RelativeHumidity                                   40971 non-null  float64\n",
      " 9   mean() Precipitation                                      40971 non-null  float64\n",
      " 10  mean() SolarRadiation                                     40971 non-null  float64\n",
      " 11  Vegetation_index_variance                                 40971 non-null  float64\n",
      " 12  Vegetation_index_mean                                     40971 non-null  float64\n",
      " 13  Shrubs                                                    40971 non-null  float64\n",
      " 14  Herbaceous vegetation                                     40971 non-null  float64\n",
      " 15  Cultivated and managed vegetation/agriculture (cropland)  40971 non-null  float64\n",
      " 16  Urban / built up                                          40971 non-null  float64\n",
      " 17  Bare / sparse vegetation                                  40971 non-null  float64\n",
      " 18  Permanent water bodies                                    40971 non-null  float64\n",
      " 19  Herbaceous wetland                                        40971 non-null  float64\n",
      " 20  Open sea                                                  40971 non-null  float64\n",
      " 21  target                                                    40971 non-null  float64\n",
      " 22  NSW                                                       40971 non-null  float64\n",
      " 23  NT                                                        40971 non-null  float64\n",
      " 24  QL                                                        40971 non-null  float64\n",
      " 25  SA                                                        40971 non-null  float64\n",
      " 26  TA                                                        40971 non-null  float64\n",
      " 27  VI                                                        40971 non-null  float64\n",
      " 28  WA                                                        40971 non-null  float64\n",
      " 29  forest                                                    40971 non-null  float64\n",
      "dtypes: float64(30)\n",
      "memory usage: 9.4 MB\n"
     ]
    }
   ],
   "source": [
    "data.info()"
   ]
  },
  {
   "cell_type": "code",
   "execution_count": 96,
   "metadata": {},
   "outputs": [
    {
     "data": {
      "text/plain": [
       "array([0.03633889, 0.04361237, 0.04109342, 0.05797242, 0.05496288,\n",
       "       0.06513032, 0.05384037, 0.05251027, 0.08982301, 0.08184278,\n",
       "       0.06443995, 0.0519808 , 0.0558892 , 0.02276003, 0.02969212,\n",
       "       0.02855058, 0.09637009, 0.03272344, 0.02577625, 0.01469082])"
      ]
     },
     "execution_count": 96,
     "metadata": {},
     "output_type": "execute_result"
    }
   ],
   "source": [
    "rf_model.feature_importances_"
   ]
  },
  {
   "cell_type": "code",
   "execution_count": 92,
   "metadata": {},
   "outputs": [],
   "source": [
    "data.drop(columns = ['NSW', 'NT', 'QL', 'SA', 'TA', 'VI', 'WA', 'Urban / built up', 'Cultivated and managed vegetation/agriculture (cropland)'], inplace=True)"
   ]
  },
  {
   "cell_type": "code",
   "execution_count": 101,
   "metadata": {},
   "outputs": [
    {
     "data": {
      "text/plain": [
       "0.44285714285714284"
      ]
     },
     "execution_count": 101,
     "metadata": {},
     "output_type": "execute_result"
    }
   ],
   "source": [
    "rf_model.predict_proba(X_test)[4][1]"
   ]
  }
 ],
 "metadata": {
  "kernelspec": {
   "display_name": "Python 3",
   "language": "python",
   "name": "python3"
  },
  "language_info": {
   "codemirror_mode": {
    "name": "ipython",
    "version": 3
   },
   "file_extension": ".py",
   "mimetype": "text/x-python",
   "name": "python",
   "nbconvert_exporter": "python",
   "pygments_lexer": "ipython3",
   "version": "3.7.6"
  }
 },
 "nbformat": 4,
 "nbformat_minor": 4
}
