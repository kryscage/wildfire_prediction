{
 "cells": [
  {
   "cell_type": "code",
   "execution_count": 1,
   "id": "11b3e09f",
   "metadata": {},
   "outputs": [],
   "source": [
    "import streamlit as st\n",
    "import pandas as pd\n",
    "import pydeck as pdk\n",
    "import csv\n",
    "import json"
   ]
  },
  {
   "cell_type": "code",
   "execution_count": 2,
   "id": "0a01e4ff",
   "metadata": {},
   "outputs": [],
   "source": [
    "with open('../wildfire_prediction/Australian_cities.json') as f:\n",
    "    data = json.load(f)"
   ]
  },
  {
   "cell_type": "code",
   "execution_count": 10,
   "id": "0b29bd5c",
   "metadata": {},
   "outputs": [
    {
     "data": {
      "text/html": [
       "<div>\n",
       "<style scoped>\n",
       "    .dataframe tbody tr th:only-of-type {\n",
       "        vertical-align: middle;\n",
       "    }\n",
       "\n",
       "    .dataframe tbody tr th {\n",
       "        vertical-align: top;\n",
       "    }\n",
       "\n",
       "    .dataframe thead th {\n",
       "        text-align: right;\n",
       "    }\n",
       "</style>\n",
       "<table border=\"1\" class=\"dataframe\">\n",
       "  <thead>\n",
       "    <tr style=\"text-align: right;\">\n",
       "      <th></th>\n",
       "      <th>city</th>\n",
       "      <th>lat</th>\n",
       "      <th>lng</th>\n",
       "      <th>admin_name</th>\n",
       "    </tr>\n",
       "  </thead>\n",
       "  <tbody>\n",
       "    <tr>\n",
       "      <th>0</th>\n",
       "      <td>Sydney</td>\n",
       "      <td>-33.8650</td>\n",
       "      <td>151.2094</td>\n",
       "      <td>New South Wales</td>\n",
       "    </tr>\n",
       "    <tr>\n",
       "      <th>1</th>\n",
       "      <td>Melbourne</td>\n",
       "      <td>-37.8136</td>\n",
       "      <td>144.9631</td>\n",
       "      <td>Victoria</td>\n",
       "    </tr>\n",
       "    <tr>\n",
       "      <th>2</th>\n",
       "      <td>Brisbane</td>\n",
       "      <td>-27.4678</td>\n",
       "      <td>153.0281</td>\n",
       "      <td>Queensland</td>\n",
       "    </tr>\n",
       "    <tr>\n",
       "      <th>3</th>\n",
       "      <td>Perth</td>\n",
       "      <td>-31.9522</td>\n",
       "      <td>115.8589</td>\n",
       "      <td>Western Australia</td>\n",
       "    </tr>\n",
       "    <tr>\n",
       "      <th>4</th>\n",
       "      <td>Adelaide</td>\n",
       "      <td>-34.9289</td>\n",
       "      <td>138.6011</td>\n",
       "      <td>South Australia</td>\n",
       "    </tr>\n",
       "    <tr>\n",
       "      <th>...</th>\n",
       "      <td>...</td>\n",
       "      <td>...</td>\n",
       "      <td>...</td>\n",
       "      <td>...</td>\n",
       "    </tr>\n",
       "    <tr>\n",
       "      <th>1030</th>\n",
       "      <td>The Palms</td>\n",
       "      <td>-26.1902</td>\n",
       "      <td>152.5861</td>\n",
       "      <td>Queensland</td>\n",
       "    </tr>\n",
       "    <tr>\n",
       "      <th>1031</th>\n",
       "      <td>Millfield</td>\n",
       "      <td>-32.8886</td>\n",
       "      <td>151.2614</td>\n",
       "      <td>New South Wales</td>\n",
       "    </tr>\n",
       "    <tr>\n",
       "      <th>1032</th>\n",
       "      <td>Dunbogan</td>\n",
       "      <td>-31.6500</td>\n",
       "      <td>152.8167</td>\n",
       "      <td>New South Wales</td>\n",
       "    </tr>\n",
       "    <tr>\n",
       "      <th>1033</th>\n",
       "      <td>Tomakin</td>\n",
       "      <td>-35.8228</td>\n",
       "      <td>150.1894</td>\n",
       "      <td>New South Wales</td>\n",
       "    </tr>\n",
       "    <tr>\n",
       "      <th>1034</th>\n",
       "      <td>Currie</td>\n",
       "      <td>-39.9311</td>\n",
       "      <td>143.8510</td>\n",
       "      <td>Tasmania</td>\n",
       "    </tr>\n",
       "  </tbody>\n",
       "</table>\n",
       "<p>1035 rows × 4 columns</p>\n",
       "</div>"
      ],
      "text/plain": [
       "           city      lat       lng         admin_name\n",
       "0        Sydney -33.8650  151.2094    New South Wales\n",
       "1     Melbourne -37.8136  144.9631           Victoria\n",
       "2      Brisbane -27.4678  153.0281         Queensland\n",
       "3         Perth -31.9522  115.8589  Western Australia\n",
       "4      Adelaide -34.9289  138.6011    South Australia\n",
       "...         ...      ...       ...                ...\n",
       "1030  The Palms -26.1902  152.5861         Queensland\n",
       "1031  Millfield -32.8886  151.2614    New South Wales\n",
       "1032   Dunbogan -31.6500  152.8167    New South Wales\n",
       "1033    Tomakin -35.8228  150.1894    New South Wales\n",
       "1034     Currie -39.9311  143.8510           Tasmania\n",
       "\n",
       "[1035 rows x 4 columns]"
      ]
     },
     "execution_count": 10,
     "metadata": {},
     "output_type": "execute_result"
    }
   ],
   "source": [
    "Cities = pd.read_csv(\"../wildfire_prediction/Australian_cities.csv\")\n",
    "df = pd.DataFrame(data=Cities, columns=['city', 'lat', 'lng', 'admin_name'])\n",
    "df"
   ]
  },
  {
   "cell_type": "code",
   "execution_count": 27,
   "id": "2892e68b",
   "metadata": {},
   "outputs": [
    {
     "name": "stdout",
     "output_type": "stream",
     "text": [
      "The forecast for Melbourne is\n"
     ]
    }
   ],
   "source": [
    "#title = st.text_input('Forecast', 'Type in an Australian city name')\n",
    "title = 'Melbourne'\n",
    "\n",
    "\n",
    "if title == 'Type in an Australian city name':\n",
    "    print('Waiting for Forecast')\n",
    "elif  title in list(df['city']):\n",
    "    print(f\"The forecast for {title} is\")\n",
    "else:\n",
    "    print('This is not a city in Australia')"
   ]
  },
  {
   "cell_type": "code",
   "execution_count": null,
   "id": "1829e5d5",
   "metadata": {},
   "outputs": [],
   "source": []
  }
 ],
 "metadata": {
  "kernelspec": {
   "display_name": "Python 3",
   "language": "python",
   "name": "python3"
  },
  "language_info": {
   "codemirror_mode": {
    "name": "ipython",
    "version": 3
   },
   "file_extension": ".py",
   "mimetype": "text/x-python",
   "name": "python",
   "nbconvert_exporter": "python",
   "pygments_lexer": "ipython3",
   "version": "3.8.6"
  },
  "toc": {
   "base_numbering": 1,
   "nav_menu": {},
   "number_sections": true,
   "sideBar": true,
   "skip_h1_title": false,
   "title_cell": "Table of Contents",
   "title_sidebar": "Contents",
   "toc_cell": false,
   "toc_position": {},
   "toc_section_display": true,
   "toc_window_display": false
  }
 },
 "nbformat": 4,
 "nbformat_minor": 5
}
